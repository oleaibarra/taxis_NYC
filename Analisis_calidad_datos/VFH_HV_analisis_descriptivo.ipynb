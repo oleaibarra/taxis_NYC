{
 "cells": [
  {
   "cell_type": "markdown",
   "id": "6cccda22-42c0-40f3-b1c5-a71da17b9527",
   "metadata": {},
   "source": [
    "## High Volume FHV trip data (VFH_HV)\n",
    "Each row represents a single trip in an FHV\n",
    "dispatched by one of NYC’s licensed High Volume FHV bases. On August 14, 2018, Mayor de Blasio\n",
    "signed Local Law 149 of 2018, creating a new license category for TLC-licensed FHV businesses that\n",
    "currently dispatch or plan to dispatch more than 10,000 FHV trips in New York City per day under a\n",
    "single brand, trade, or operating name, referred to as High-Volume For-Hire Services (HVFHS). This law\n",
    "went into effect on Feb 1, 2019.\n",
    "\n",
    "Los datos de viajes de FHVHV (High Volume For-Hire Vehicle) representan los registros de viajes en los vehículos de alquiler con conductor (FHV) en la ciudad de Nueva York que fueron despachados por bases FHV con licencia de alta capacidad. Estos datos se recopilan y publican por la Comisión de Taxis y Limusinas (TLC) de la ciudad de Nueva York.\n",
    "\n"
   ]
  },
  {
   "cell_type": "code",
   "execution_count": 2,
   "id": "ca98892c-8fc4-499e-b05c-c249328c8efc",
   "metadata": {},
   "outputs": [],
   "source": [
    "import pandas as pd"
   ]
  },
  {
   "cell_type": "code",
   "execution_count": 3,
   "id": "476a489a-ad71-4d02-9753-3b1f174596c1",
   "metadata": {},
   "outputs": [],
   "source": [
    "df = pd.read_parquet('fhvhv_tripdata_2023-01.parquet')"
   ]
  },
  {
   "cell_type": "code",
   "execution_count": 15,
   "id": "5f4e82b3-b87a-44dc-8ed7-7d34b0850a94",
   "metadata": {},
   "outputs": [
    {
     "name": "stdout",
     "output_type": "stream",
     "text": [
      "hvfhs_license_num             0\n",
      "company                       0\n",
      "dispatching_base_num          0\n",
      "originating_base_num    4891992\n",
      "request_datetime              0\n",
      "on_scene_datetime       4891992\n",
      "pickup_datetime               0\n",
      "dropoff_datetime              0\n",
      "PULocationID                  0\n",
      "DOLocationID                  0\n",
      "trip_miles                    0\n",
      "trip_time                     0\n",
      "base_passenger_fare           0\n",
      "tolls                         0\n",
      "bcf                           0\n",
      "sales_tax                     0\n",
      "congestion_surcharge          0\n",
      "airport_fee                   0\n",
      "tips                          0\n",
      "driver_pay                    0\n",
      "shared_request_flag           0\n",
      "shared_match_flag             0\n",
      "access_a_ride_flag            0\n",
      "wav_request_flag              0\n",
      "wav_match_flag                0\n",
      "dtype: int64\n"
     ]
    }
   ],
   "source": [
    "# contar el número de NaN en cada columna\n",
    "nan_counts = df.isna().sum()\n",
    "\n",
    "# imprimir los resultados\n",
    "print(nan_counts)"
   ]
  },
  {
   "cell_type": "code",
   "execution_count": 4,
   "id": "2546baec-5a47-4bb7-8de5-faa770385be7",
   "metadata": {},
   "outputs": [
    {
     "data": {
      "text/plain": [
       "Index(['hvfhs_license_num', 'dispatching_base_num', 'originating_base_num',\n",
       "       'request_datetime', 'on_scene_datetime', 'pickup_datetime',\n",
       "       'dropoff_datetime', 'PULocationID', 'DOLocationID', 'trip_miles',\n",
       "       'trip_time', 'base_passenger_fare', 'tolls', 'bcf', 'sales_tax',\n",
       "       'congestion_surcharge', 'airport_fee', 'tips', 'driver_pay',\n",
       "       'shared_request_flag', 'shared_match_flag', 'access_a_ride_flag',\n",
       "       'wav_request_flag', 'wav_match_flag'],\n",
       "      dtype='object')"
      ]
     },
     "execution_count": 4,
     "metadata": {},
     "output_type": "execute_result"
    }
   ],
   "source": [
    "df.columns"
   ]
  },
  {
   "cell_type": "markdown",
   "id": "1e6fa433-3cad-4faf-a431-25092fca6307",
   "metadata": {},
   "source": [
    "### col_0 'hvfhs_license_num'\n",
    "The TLC license number of the HVFHS base or business\n",
    "\n",
    "As of September 2019, the HVFHS licensees are the following:\n",
    "• HV0002: Juno\n",
    "• HV0003: Uber\n",
    "• HV0004: Via\n",
    "• HV0005: Lyft"
   ]
  },
  {
   "cell_type": "code",
   "execution_count": 5,
   "id": "efe29535-0649-45a3-b104-1fb789999cd2",
   "metadata": {},
   "outputs": [
    {
     "data": {
      "text/plain": [
       "array(['HV0003', 'HV0005'], dtype=object)"
      ]
     },
     "execution_count": 5,
     "metadata": {},
     "output_type": "execute_result"
    }
   ],
   "source": [
    "df['hvfhs_license_num'].unique()"
   ]
  },
  {
   "cell_type": "markdown",
   "id": "720b6b15-b6e9-498c-aefd-278715756ab0",
   "metadata": {},
   "source": [
    "### col_1 'company'"
   ]
  },
  {
   "cell_type": "markdown",
   "id": "6c37b869-cf30-4ba5-b606-410bb32bcc66",
   "metadata": {},
   "source": [
    "Crear columna 'company' con valores 'Uber' y 'Lyft' según correspondan con valores en columna 'hvfhs_license_num'"
   ]
  },
  {
   "cell_type": "code",
   "execution_count": 6,
   "id": "e277b8fd-7d9f-49e1-88fb-029e7bbe3793",
   "metadata": {},
   "outputs": [],
   "source": [
    "import numpy as np\n",
    "\n",
    "# crea una nueva columna con valores vacíos\n",
    "df.insert(1, \"company\", \"\")\n",
    "\n",
    "# usa np.where() para asignar los valores 'Uber' o 'Lyft' según el valor de hvfhs_license_num\n",
    "df['company'] = np.where(df['hvfhs_license_num'] == 'HV0003', 'Uber', df['company'])\n",
    "df['company'] = np.where(df['hvfhs_license_num'] == 'HV0005', 'Lyft', df['company'])\n"
   ]
  },
  {
   "cell_type": "code",
   "execution_count": 8,
   "id": "3fe7ea0f-01e9-4d36-ae60-97bc36f5c018",
   "metadata": {},
   "outputs": [
    {
     "name": "stdout",
     "output_type": "stream",
     "text": [
      "Registros de Uber: 13580152\n",
      "Registros de Lyft: 4898879\n"
     ]
    }
   ],
   "source": [
    "# contar cuántos registros son de 'Uber' y cuántos de 'Lyft'\n",
    "counts = df['company'].value_counts()\n",
    "\n",
    "# imprimir los resultados\n",
    "print(\"Registros de Uber:\", counts['Uber'])\n",
    "print(\"Registros de Lyft:\", counts['Lyft'])"
   ]
  },
  {
   "cell_type": "markdown",
   "id": "57cd96d9-4445-434b-b9f1-57ae0ea15207",
   "metadata": {},
   "source": [
    "### col_2 'dispatching_base_num'\n",
    "The TLC Base License Number of the base that dispatched the trip"
   ]
  },
  {
   "cell_type": "code",
   "execution_count": 9,
   "id": "5175b535-b995-4ed2-a59a-4e3c9519ceaa",
   "metadata": {},
   "outputs": [
    {
     "data": {
      "text/plain": [
       "array(['B03404', 'B03406', 'B02870', 'B02764', 'B02872', 'B02765',\n",
       "       'B02879', 'B02876', 'B02889', 'B02835', 'B02887', 'B02871',\n",
       "       'B02869', 'B02866', 'B02875', 'B02865'], dtype=object)"
      ]
     },
     "execution_count": 9,
     "metadata": {},
     "output_type": "execute_result"
    }
   ],
   "source": [
    "df['dispatching_base_num'].unique()"
   ]
  },
  {
   "cell_type": "markdown",
   "id": "184228b5-ea00-4654-8143-266e409874af",
   "metadata": {},
   "source": [
    "### col_3 'originating_base_num'\n",
    "base number of the base that received the original trip request"
   ]
  },
  {
   "cell_type": "code",
   "execution_count": 10,
   "id": "7c286500-73c4-4800-a7be-96542e7c0373",
   "metadata": {},
   "outputs": [
    {
     "data": {
      "text/plain": [
       "array(['B03404', None, 'B02870', 'B02764', 'B03406', 'B02872', 'B02765',\n",
       "       'B02026', 'B02879', 'B02876', 'B02889', 'B02835', 'B02887',\n",
       "       'B02871', 'B02869', 'B03153', 'B02866', 'B02875', 'B02865'],\n",
       "      dtype=object)"
      ]
     },
     "execution_count": 10,
     "metadata": {},
     "output_type": "execute_result"
    }
   ],
   "source": [
    "df['originating_base_num'].unique()"
   ]
  },
  {
   "cell_type": "markdown",
   "id": "3f2d6abd-977c-4834-8b3f-a60e9753b645",
   "metadata": {},
   "source": [
    "### col_4 'request_datetime'\n",
    "date/time when passenger requested to be picked up"
   ]
  },
  {
   "cell_type": "code",
   "execution_count": 16,
   "id": "e74f34b1-8999-4b9c-b635-4bb5cedc8e2d",
   "metadata": {},
   "outputs": [
    {
     "name": "stdout",
     "output_type": "stream",
     "text": [
      "2022-12-31 20:30:00\n",
      "2023-02-01 00:15:00\n"
     ]
    }
   ],
   "source": [
    "print(df['request_datetime'].min())\n",
    "print(df['request_datetime'].max())"
   ]
  },
  {
   "cell_type": "markdown",
   "id": "d6f23925-3481-4d76-b301-f28e8c812dd4",
   "metadata": {},
   "source": [
    "### col_5 'on_scene_datetime'\n",
    "date/time when driver arrived at the pick-up location (Accessible\n",
    "Vehicles-only)"
   ]
  },
  {
   "cell_type": "code",
   "execution_count": 18,
   "id": "5fbf8833-cd54-49c9-91f8-014cb9d359c4",
   "metadata": {},
   "outputs": [
    {
     "name": "stdout",
     "output_type": "stream",
     "text": [
      "2022-12-31 21:23:03\n",
      "2023-01-31 23:59:53\n"
     ]
    }
   ],
   "source": [
    "print(df['on_scene_datetime'].min())\n",
    "print(df['on_scene_datetime'].max())"
   ]
  },
  {
   "cell_type": "markdown",
   "id": "2615b841-340e-44ab-bd55-0d734d59a5dc",
   "metadata": {},
   "source": [
    "### col_6 'pickup_datetime'\n",
    "The date and time of the trip pick-up"
   ]
  },
  {
   "cell_type": "code",
   "execution_count": 19,
   "id": "fea868da-3eef-40ed-afcf-097b0c8e2fa8",
   "metadata": {},
   "outputs": [
    {
     "name": "stdout",
     "output_type": "stream",
     "text": [
      "2023-01-01 00:00:00\n",
      "2023-01-31 23:59:59\n"
     ]
    }
   ],
   "source": [
    "print(df['pickup_datetime'].min())\n",
    "print(df['pickup_datetime'].max())"
   ]
  },
  {
   "cell_type": "markdown",
   "id": "32fc42f4-6ea3-413a-8241-ec73a02c9850",
   "metadata": {},
   "source": [
    "### col_7 'dropoff_datetime'\n",
    "The date and time of the trip drop-off"
   ]
  },
  {
   "cell_type": "code",
   "execution_count": 21,
   "id": "1a38d091-18b2-4c36-b962-6a0bf0543971",
   "metadata": {},
   "outputs": [
    {
     "name": "stdout",
     "output_type": "stream",
     "text": [
      "2023-01-01 00:02:27\n",
      "2023-02-01 01:47:23\n"
     ]
    }
   ],
   "source": [
    "print(df['dropoff_datetime'].min())\n",
    "print(df['dropoff_datetime'].max())"
   ]
  },
  {
   "cell_type": "markdown",
   "id": "b3e7fea5-d8b2-4d0d-b2a9-319618305871",
   "metadata": {},
   "source": [
    "### col_8 'PULocationID'\n",
    "TLC Taxi Zone in which the trip began"
   ]
  },
  {
   "cell_type": "code",
   "execution_count": 24,
   "id": "7ade6ac0-f7bb-40ad-89e1-2d1f6ea1ff32",
   "metadata": {},
   "outputs": [
    {
     "data": {
      "text/plain": [
       "262"
      ]
     },
     "execution_count": 24,
     "metadata": {},
     "output_type": "execute_result"
    }
   ],
   "source": [
    "# Los valores para este campo son INT\n",
    "df['PULocationID'].nunique()"
   ]
  },
  {
   "cell_type": "markdown",
   "id": "053e6954-cc5b-4a40-909a-a4af88e71f39",
   "metadata": {},
   "source": [
    "### col_9 'DOLocationID'\n",
    "TLC Taxi Zone in which the trip ended"
   ]
  },
  {
   "cell_type": "code",
   "execution_count": 27,
   "id": "1c6dcf16-b65d-46f5-9032-44a68776380f",
   "metadata": {},
   "outputs": [
    {
     "data": {
      "text/plain": [
       "261"
      ]
     },
     "execution_count": 27,
     "metadata": {},
     "output_type": "execute_result"
    }
   ],
   "source": [
    "# Los valores para este campo son INT\n",
    "df['DOLocationID'].nunique()"
   ]
  },
  {
   "cell_type": "markdown",
   "id": "3d09ff9b-67c5-4505-b9de-da73004f0df2",
   "metadata": {},
   "source": [
    "### col_10 'trip_miles'\n",
    "total miles for passenger trip"
   ]
  },
  {
   "cell_type": "code",
   "execution_count": 28,
   "id": "190b5dc9-86c5-4166-b8cc-faf1bda74c94",
   "metadata": {},
   "outputs": [
    {
     "name": "stdout",
     "output_type": "stream",
     "text": [
      "0.0\n",
      "407.563\n"
     ]
    }
   ],
   "source": [
    "print(df['trip_miles'].min())\n",
    "print(df['trip_miles'].max())"
   ]
  },
  {
   "cell_type": "markdown",
   "id": "bcf351fd-2c9f-4b99-83d5-e858c6e6410f",
   "metadata": {},
   "source": [
    "### col_11 'trip_time'\n",
    "total time in seconds for passenger trip"
   ]
  },
  {
   "cell_type": "code",
   "execution_count": 30,
   "id": "d65671b4-7eb4-4304-a9f1-7cac040156b5",
   "metadata": {},
   "outputs": [
    {
     "name": "stdout",
     "output_type": "stream",
     "text": [
      "0\n",
      "35359\n"
     ]
    }
   ],
   "source": [
    "print(df['trip_time'].min())\n",
    "print(df['trip_time'].max())\n",
    "# Al parecer hay valores atípicos como este máximo que representa 9.82 horas"
   ]
  },
  {
   "cell_type": "markdown",
   "id": "6e8e5c6c-0ca2-44af-8e89-a884ec4f461b",
   "metadata": {},
   "source": [
    "### col_12 'base_passenger_fare'\n",
    "base passenger fare before tolls, tips, taxes, and fees"
   ]
  },
  {
   "cell_type": "code",
   "execution_count": 35,
   "id": "1fa8dcda-086c-4f58-bd6f-aa52c47fe731",
   "metadata": {},
   "outputs": [
    {
     "name": "stdout",
     "output_type": "stream",
     "text": [
      "28613\n",
      "-146.34\n",
      "1455.12\n",
      "valores menores a cero: 13440\n",
      "valores iguales a cero: 98\n"
     ]
    }
   ],
   "source": [
    "print(df['base_passenger_fare'].nunique())\n",
    "print(df['base_passenger_fare'].min())\n",
    "print(df['base_passenger_fare'].max())\n",
    "\n",
    "# ¿valores negativos? ¿Es posible?\n",
    "\n",
    "# contar el número de valores iguales y menores a cero en la columna \"base_passenger_fare\"\n",
    "negative_count = (df['base_passenger_fare'] < 0).sum()\n",
    "zero_count = (df['base_passenger_fare'] == 0).sum()\n",
    "\n",
    "# imprimir los resultados\n",
    "print(\"valores menores a cero:\", negative_count)\n",
    "print(\"valores iguales a cero:\", zero_count)\n"
   ]
  },
  {
   "cell_type": "markdown",
   "id": "fa4f16da-4170-4d5b-b804-6f0fa53fa425",
   "metadata": {},
   "source": [
    "### col_13 'tolls'\n",
    "total amount of all tolls paid in trip\n",
    "\n",
    "Los \"tolls\" son peajes o tarifas que se pagan para usar ciertas carreteras, puentes o túneles. En el contexto de un viaje en taxi, los \"tolls\" se refieren a los peajes que se pagan durante el viaje, que son costos adicionales que se suman a la tarifa de viaje base."
   ]
  },
  {
   "cell_type": "code",
   "execution_count": 36,
   "id": "1dd60244-0c99-4d2c-95d2-f1253cfdcf7b",
   "metadata": {},
   "outputs": [
    {
     "name": "stdout",
     "output_type": "stream",
     "text": [
      "0.0\n",
      "184.37\n"
     ]
    }
   ],
   "source": [
    "print(df['tolls'].min())\n",
    "print(df['tolls'].max())"
   ]
  },
  {
   "cell_type": "markdown",
   "id": "3862ef15-136e-4609-9374-fe3561a566a1",
   "metadata": {},
   "source": [
    "### col_14 'bcf'\n",
    "total amount collected in trip for Black Car Fund\n",
    "\n",
    "El \"Black Car Fund\" es un fondo de compensación y seguro para los conductores de vehículos de alquiler de Nueva York que están afiliados a empresas de transporte de pasajeros con licencia. El fondo fue creado para proporcionar una red de seguridad financiera para los conductores, y está financiado por un cargo de 2.5% sobre el total de los ingresos brutos que los conductores ganan mientras trabajan para las empresas de transporte participantes.\n",
    "\n",
    "En el contexto de un viaje en taxi, \"total amount collected in trip for Black Car Fund\" se refiere a la cantidad total de dinero que se ha recolectado durante un viaje en taxi para ser destinado al Black Car Fund. El monto se calcula como un porcentaje del ingreso bruto del conductor por el viaje.\n",
    "\n",
    "El monto recolectado para el Black Car Fund se informa por separado de la tarifa de viaje base y otros cargos adicionales, y se detalla en el recibo que se le entrega al pasajero después del viaje."
   ]
  },
  {
   "cell_type": "code",
   "execution_count": 37,
   "id": "1b1be441-42ef-48e1-9ca9-127a14b116ef",
   "metadata": {},
   "outputs": [
    {
     "name": "stdout",
     "output_type": "stream",
     "text": [
      "0.0\n",
      "64.71\n"
     ]
    }
   ],
   "source": [
    "print(df['bcf'].min())\n",
    "print(df['bcf'].max())"
   ]
  },
  {
   "cell_type": "markdown",
   "id": "98c0c8d9-a140-4bd1-9995-244ef62f1830",
   "metadata": {},
   "source": [
    "### col_15 'sales_tax'\n",
    "total amount collected in trip for NYS sales tax\n",
    "\n",
    "El \"total amount collected in trip for NYS sales tax\" se refiere a la cantidad de impuestos sobre las ventas del Estado de Nueva York que se recolecta durante un viaje en taxi y se paga al gobierno estatal. En Nueva York, se aplica un impuesto estatal del 4% a las tarifas de taxi y un impuesto adicional del 0.375% para financiar el sistema de transporte público.\n",
    "\n",
    "La cantidad total de impuestos sobre las ventas que se cobran durante un viaje en taxi se calcula como un porcentaje de la tarifa de viaje base y otros cargos adicionales, como los peajes. El monto total del impuesto se informa por separado en el recibo que se entrega al pasajero después del viaje."
   ]
  },
  {
   "cell_type": "code",
   "execution_count": 38,
   "id": "01f6a57f-2dfa-4a2d-b29d-6492e938ddc7",
   "metadata": {},
   "outputs": [
    {
     "name": "stdout",
     "output_type": "stream",
     "text": [
      "0.0\n",
      "120.91\n"
     ]
    }
   ],
   "source": [
    "print(df['sales_tax'].min())\n",
    "print(df['sales_tax'].max())"
   ]
  },
  {
   "cell_type": "markdown",
   "id": "86d1cc90-11e1-4e02-8999-27fffbe17f8c",
   "metadata": {},
   "source": [
    "### col_16 'congestion_surcharge'\n",
    "total amount collected in trip for NYS congestion surcharge\n",
    "\n",
    "El \"total amount collected in trip for NYS congestion surcharge\" se refiere a la cantidad de la tarifa de congestión que se recolecta durante un viaje en taxi en la ciudad de Nueva York y se paga al gobierno estatal. La tarifa de congestión fue introducida por el gobierno estatal en 2019 con el objetivo de reducir la congestión del tráfico en la ciudad de Nueva York y mejorar la calidad del aire.\n",
    "\n",
    "La tarifa de congestión se aplica a todos los viajes en taxi y vehículos de transporte de pasajeros con licencia que pasan por el distrito de congestión en Manhattan, que es una zona del centro de la ciudad definida por el gobierno estatal. La tarifa se cobra en la parte superior de la tarifa de viaje base y otros cargos adicionales, y su monto depende del tipo de vehículo y la hora del día."
   ]
  },
  {
   "cell_type": "code",
   "execution_count": 39,
   "id": "daa10c5d-3da4-474b-bddc-0ad4c3dd6e7a",
   "metadata": {},
   "outputs": [
    {
     "name": "stdout",
     "output_type": "stream",
     "text": [
      "0.0\n",
      "8.25\n"
     ]
    }
   ],
   "source": [
    "print(df['congestion_surcharge'].min())\n",
    "print(df['congestion_surcharge'].max())"
   ]
  },
  {
   "cell_type": "markdown",
   "id": "56bc966a-cd8d-44bd-a6f5-23369c119ea1",
   "metadata": {},
   "source": [
    "### col_17 'airport_fee'\n",
    "$2.50 for both drop off and pick up at LaGuardia, Newark, and John\n",
    "F. Kennedy airports\n",
    "\n",
    "El \"airport fee\" es una tarifa adicional que se cobra a los pasajeros de taxis y vehículos de transporte de pasajeros con licencia que se recogen o dejan en los aeropuertos de LaGuardia, Newark y John F. Kennedy en la ciudad de Nueva York. Esta tarifa se cobra por separado de la tarifa de viaje base y otros cargos adicionales, y su monto es de $2.50 por cada recogida o entrega en cualquiera de estos aeropuertos.\n",
    "\n",
    "La tarifa del aeropuerto se utiliza para financiar la construcción y mantenimiento de instalaciones y servicios en los aeropuertos de la ciudad de Nueva York, como estacionamientos y terminales de pasajeros. La tarifa es obligatoria para todos los taxis y vehículos de transporte de pasajeros con licencia que operan en la ciudad de Nueva York y que prestan servicios de recogida o entrega en los aeropuertos cubiertos por la tarifa."
   ]
  },
  {
   "cell_type": "code",
   "execution_count": 42,
   "id": "5b26c449-2ad5-4b30-b260-dca1aeb269dc",
   "metadata": {},
   "outputs": [
    {
     "name": "stdout",
     "output_type": "stream",
     "text": [
      "0.0\n",
      "6.9\n",
      "[0.   2.5  1.25 5.   6.9  4.5  4.4  1.   0.5 ]\n"
     ]
    }
   ],
   "source": [
    "print(df['airport_fee'].min())\n",
    "print(df['airport_fee'].max())\n",
    "print(df['airport_fee'].unique())\n",
    "\n",
    "# ¿Cómo puede ser que un viaje tenga un cargo de 6.9 por concepto de 'airport_fee'?"
   ]
  },
  {
   "cell_type": "markdown",
   "id": "e05333ef-2ff5-4124-888a-0a0958ceebb4",
   "metadata": {},
   "source": [
    "### col_18 'tips'\n",
    "total amount of tips received from passenger"
   ]
  },
  {
   "cell_type": "code",
   "execution_count": 43,
   "id": "3a438507-62d6-4f97-acdc-3a07271d60a5",
   "metadata": {},
   "outputs": [
    {
     "name": "stdout",
     "output_type": "stream",
     "text": [
      "0.0\n",
      "180.53\n"
     ]
    }
   ],
   "source": [
    "print(df['tips'].min())\n",
    "print(df['tips'].max())\n",
    "\n",
    "# ¿180 dólares de propina?"
   ]
  },
  {
   "cell_type": "markdown",
   "id": "25e924ba-5d12-4640-9a35-4fa10f938c6b",
   "metadata": {},
   "source": [
    "### col_19 'driver_pay'\n",
    "total driver pay (not including tolls or tips and net of commission,\n",
    "surcharges, or taxes)\n",
    "\n",
    "El \"total driver pay (not including tolls or tips and net of commission, surcharges, or taxes)\" se refiere al monto total que el conductor de un taxi o vehículo de transporte de pasajeros con licencia gana por un viaje, después de deducir los costos asociados con la comisión, los recargos, los impuestos y cualquier otro costo que la empresa pueda deducir. Esta cantidad no incluye los peajes o propinas que el conductor pueda recibir durante el viaje.\n",
    "\n",
    "Para calcular el \"total driver pay\", primero se suman todos los ingresos brutos que el conductor gana durante el viaje, incluyendo la tarifa de viaje base, los recargos y cualquier otra tarifa adicional que se aplique. Luego, se deducen de esta cantidad todos los costos que la empresa de transporte pueda deducir, como comisiones, recargos y impuestos.\n",
    "\n",
    "**Es posible que sea un valor negativo.** Lo que significa que el conductor en realidad habrá perdido dinero durante el viaje. Esto es poco común, pero puede ocurrir en ciertas situaciones, como cuando el conductor viaja largas distancias para recoger a un pasajero, solo para descubrir que el pasajero canceló el viaje después de que el conductor llegó."
   ]
  },
  {
   "cell_type": "code",
   "execution_count": 44,
   "id": "e1dfef13-c3ad-4e7b-8a0d-f81191e6ba00",
   "metadata": {},
   "outputs": [
    {
     "name": "stdout",
     "output_type": "stream",
     "text": [
      "-102.15\n",
      "1285.04\n"
     ]
    }
   ],
   "source": [
    "print(df['driver_pay'].min())\n",
    "print(df['driver_pay'].max())"
   ]
  },
  {
   "cell_type": "markdown",
   "id": "5ca46889-dadf-49f4-915f-dc18937366bc",
   "metadata": {},
   "source": [
    "### col_20 'shared_request_flag'\n",
    "Did the passenger agree to a shared/pooled ride, regardless of\n",
    "whether they were matched? (Y/N)\n",
    "\n",
    "\"shared_request_flag\" se refiere a un indicador en los registros de datos de un servicio de transporte compartido, como un servicio de viajes compartidos en automóvil, que indica si el pasajero solicitó un viaje compartido/pool, independientemente de si se encontró una coincidencia con otros pasajeros.\n",
    "\n",
    "Se establece en \"Y\" si el pasajero acordó compartir el viaje con otros pasajeros y en \"N\" si no lo hizo."
   ]
  },
  {
   "cell_type": "code",
   "execution_count": 45,
   "id": "4bcf25e5-d88f-4b6c-89b2-82adb11e16cf",
   "metadata": {},
   "outputs": [
    {
     "name": "stdout",
     "output_type": "stream",
     "text": [
      "Y: 496066\n",
      "N: 17982965\n"
     ]
    }
   ],
   "source": [
    "# contar cuántos registros en 'shared_request_flag' son de 'Y' y cuántos 'N'\n",
    "counts = df['shared_request_flag'].value_counts()\n",
    "\n",
    "# imprimir los resultados\n",
    "print(\"Y:\", counts['Y'])\n",
    "print(\"N:\", counts['N'])"
   ]
  },
  {
   "cell_type": "markdown",
   "id": "27e8a32a-a4cb-464f-a2ca-fb65e3bbcbc2",
   "metadata": {},
   "source": [
    "### col_21 'shared_match_flag'\n",
    "Did the passenger share the vehicle with another passenger who\n",
    "booked separately at any point during the trip? (Y/N)\n",
    "\n",
    "\"shared_match_flag\" es un indicador que indica si un pasajero compartió un vehículo con otro pasajero que reservó por separado en algún momento durante el viaje en un servicio de transporte compartido. Se establece en \"Y\" si el pasajero compartió el vehículo con otro pasajero durante el viaje y en \"N\" si no lo hizo."
   ]
  },
  {
   "cell_type": "code",
   "execution_count": 46,
   "id": "432e2eaf-1c0a-431a-974a-1650a58e8a0d",
   "metadata": {},
   "outputs": [
    {
     "name": "stdout",
     "output_type": "stream",
     "text": [
      "Y: 182366\n",
      "N: 18296665\n"
     ]
    }
   ],
   "source": [
    "# contar cuántos registros en 'shared_match_flag' son de 'Y' y cuántos 'N'\n",
    "counts = df['shared_match_flag'].value_counts()\n",
    "\n",
    "# imprimir los resultados\n",
    "print(\"Y:\", counts['Y'])\n",
    "print(\"N:\", counts['N'])"
   ]
  },
  {
   "cell_type": "markdown",
   "id": "19357981-5d8f-44ed-86a3-b4a3f812785c",
   "metadata": {},
   "source": [
    "### col_22 'access_a_ride_flag'\n",
    "Was the trip administered on behalf of the Metropolitan\n",
    "Transportation Authority (MTA)? (Y/N)\n",
    "\n",
    "\"access_a_ride_flag\" se refiere a un indicador en los registros de datos de servicios de transporte en la ciudad de Nueva York que indica si el viaje fue administrado en nombre de la Autoridad Metropolitana de Transporte (MTA) de la ciudad de Nueva York. La MTA es la agencia que gestiona el transporte público en la ciudad de Nueva York y sus alrededores, y ofrece servicios de transporte para personas con discapacidades bajo el nombre de Access-A-Ride.\n",
    "\n",
    "Este indicador se establece en \"Y\" si el viaje fue reservado y pagado por la MTA, o si fue coordinado a través del programa Access-A-Ride de la MTA. Esto significa que el viaje fue programado para un pasajero que cumple con los requisitos de elegibilidad para el programa Access-A-Ride y que es elegible para recibir servicios de transporte adaptados para personas con discapacidades."
   ]
  },
  {
   "cell_type": "code",
   "execution_count": 50,
   "id": "52e57fbc-efd1-4c16-aa6b-fbae8139313b",
   "metadata": {},
   "outputs": [
    {
     "name": "stdout",
     "output_type": "stream",
     "text": [
      "[' ' 'N']\n",
      "     13580152\n",
      "N     4898879\n",
      "Name: access_a_ride_flag, dtype: int64\n"
     ]
    }
   ],
   "source": [
    "print(df['access_a_ride_flag'].unique())\n",
    "\n",
    "# contar cuántos registros en 'access_a_ride_flag' son de ' ' y cuántos 'N'\n",
    "print(df['access_a_ride_flag'].value_counts())\n"
   ]
  },
  {
   "cell_type": "markdown",
   "id": "5330e925-3ff8-4041-8c62-8bb6e6fc166e",
   "metadata": {},
   "source": [
    "### col_23 'wav_request_flag'\n",
    "Did the passenger request a wheelchair-accessible vehicle (WAV)?\n",
    "(Y/N)"
   ]
  },
  {
   "cell_type": "code",
   "execution_count": 51,
   "id": "fa57b3b7-8e93-4c9c-bf39-8ce095a60fa4",
   "metadata": {},
   "outputs": [
    {
     "name": "stdout",
     "output_type": "stream",
     "text": [
      "['N' 'Y']\n",
      "N    18451056\n",
      "Y       27975\n",
      "Name: wav_request_flag, dtype: int64\n"
     ]
    }
   ],
   "source": [
    "print(df['wav_request_flag'].unique())\n",
    "\n",
    "# contar cuántos registros en 'wav_request_flag' de cada tipo\n",
    "print(df['wav_request_flag'].value_counts())"
   ]
  },
  {
   "cell_type": "markdown",
   "id": "8ccd822d-e874-4fe8-915f-586e7d78ab6a",
   "metadata": {},
   "source": [
    "### 'wav_match_flag'\n",
    "Did the trip occur in a wheelchair-accessible vehicle (WAV)? (Y/N)"
   ]
  },
  {
   "cell_type": "code",
   "execution_count": 52,
   "id": "9c6cecda-db4a-49a9-becc-092eda2a752e",
   "metadata": {},
   "outputs": [
    {
     "name": "stdout",
     "output_type": "stream",
     "text": [
      "['N' 'Y']\n",
      "N    17262300\n",
      "Y     1216731\n",
      "Name: wav_match_flag, dtype: int64\n"
     ]
    }
   ],
   "source": [
    "print(df['wav_match_flag'].unique())\n",
    "\n",
    "# contar cuántos registros en 'wav_match_flag' de cada tipo\n",
    "print(df['wav_match_flag'].value_counts())"
   ]
  },
  {
   "cell_type": "markdown",
   "id": "08aecf83-0cc5-4cdc-9c85-a29d259f8a9e",
   "metadata": {},
   "source": [
    "base_passenger_fare\n",
    "tolls\n",
    "bcf\n",
    "sales_tax \n",
    "congestion_surcharge\n",
    "tips \n",
    "# para calcular el pago (que sea similar a los taxis amarillos y verdes) sumamos las columas listas aquí arriba. \n",
    "# aparte el airport_fee "
   ]
  },
  {
   "cell_type": "code",
   "execution_count": 4,
   "id": "ab238247-8d4b-4fe0-93d2-557715695ee6",
   "metadata": {},
   "outputs": [
    {
     "data": {
      "text/plain": [
       "hvfhs_license_num                    HV0003\n",
       "dispatching_base_num                 B03404\n",
       "originating_base_num                 B03404\n",
       "request_datetime        2023-01-01 00:18:06\n",
       "on_scene_datetime       2023-01-01 00:19:24\n",
       "pickup_datetime         2023-01-01 00:19:38\n",
       "dropoff_datetime        2023-01-01 00:48:07\n",
       "PULocationID                             48\n",
       "DOLocationID                             68\n",
       "trip_miles                             0.94\n",
       "trip_time                              1709\n",
       "base_passenger_fare                   25.95\n",
       "tolls                                   0.0\n",
       "bcf                                    0.78\n",
       "sales_tax                               2.3\n",
       "congestion_surcharge                   2.75\n",
       "airport_fee                             0.0\n",
       "tips                                   5.22\n",
       "driver_pay                            27.83\n",
       "shared_request_flag                       N\n",
       "shared_match_flag                         N\n",
       "access_a_ride_flag                         \n",
       "wav_request_flag                          N\n",
       "wav_match_flag                            N\n",
       "Name: 0, dtype: object"
      ]
     },
     "execution_count": 4,
     "metadata": {},
     "output_type": "execute_result"
    }
   ],
   "source": [
    "df.loc[0,:]"
   ]
  }
 ],
 "metadata": {
  "kernelspec": {
   "display_name": "Python 3 (ipykernel)",
   "language": "python",
   "name": "python3"
  },
  "language_info": {
   "codemirror_mode": {
    "name": "ipython",
    "version": 3
   },
   "file_extension": ".py",
   "mimetype": "text/x-python",
   "name": "python",
   "nbconvert_exporter": "python",
   "pygments_lexer": "ipython3",
   "version": "3.9.16"
  }
 },
 "nbformat": 4,
 "nbformat_minor": 5
}
