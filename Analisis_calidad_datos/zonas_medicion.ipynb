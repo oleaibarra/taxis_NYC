{
 "cells": [
  {
   "cell_type": "markdown",
   "id": "f634c7df-d252-41ac-80f3-f948e024bd0a",
   "metadata": {},
   "source": [
    "En este Notebook se genera un diccionario con los nombres de las estaciones de medición de la calidad del aire en la Ciudad de Nueva York, como llaves, y las zonas tlc* que son cubiertas en el registro de contaminantes por cada estación, como valores. \n",
    "\n",
    "El fin de definir las zonas que cubre cada estación es para poder determinar la relación que existe entre los contaminantes emitidos por los vehículos de combustion (en este caso taxis) y la carga de circulación en un momento dado en dichas zonas. \n",
    "\n",
    "*Una zona TLC (Taxi and Limousine Commission) se refiere a las áreas designadas por la Comisión de Taxis y Limusinas de la Ciudad de Nueva York para regular la prestación de servicios de transporte privado en la ciudad. En el contexto del código que estás utilizando, las zonas TLC son áreas geográficas específicas dentro de la ciudad que se han definido con fines regulatorios para el transporte. Las zonas se identifican con un número de ubicación y se utilizan en el sistema de medallones de taxis y en otros servicios de transporte regulados por la Comisión de Taxis y Limusinas de la ciudad."
   ]
  },
  {
   "cell_type": "markdown",
   "id": "64aef5da-9ec3-460d-935b-956d38674e4d",
   "metadata": {},
   "source": [
    "En la página de NYC Taxi & Limousine Commission, usando el mismo link que se utilizó para descargar la data sobre los trayectos de los taxis en la Ciudad de Nueva York: https://www.nyc.gov/site/tlc/about/tlc-trip-record-data.page, hay un archivo, bajo el apartado 'Taxi Zone Maps and Lookup Tables' con nombre Taxi Zone Shapefile (PARQUET) que contiene el shape file de las zonas tlc de la Ciudad de Nueva York. Descargamos este archivo y sus correspondientes archivos de referencia y los cargamos en un geoDataFrame. "
   ]
  },
  {
   "cell_type": "code",
   "execution_count": 6,
   "id": "edc66444-d9a0-4cf6-8ad7-9f89db7228e5",
   "metadata": {},
   "outputs": [],
   "source": [
    "import pandas as pd\n",
    "import geopandas as gpd\n",
    "import os\n",
    "os.environ['SHAPE_RESTORE_SHX'] = 'YES'"
   ]
  },
  {
   "cell_type": "code",
   "execution_count": 8,
   "id": "a01e57a8-9c9b-43c2-8f25-6c02ac530db4",
   "metadata": {},
   "outputs": [
    {
     "name": "stdout",
     "output_type": "stream",
     "text": [
      "   OBJECTID  Shape_Leng  Shape_Area                     zone  LocationID  \\\n",
      "0         1    0.116357    0.000782           Newark Airport           1   \n",
      "1         2    0.433470    0.004866              Jamaica Bay           2   \n",
      "2         3    0.084341    0.000314  Allerton/Pelham Gardens           3   \n",
      "3         4    0.043567    0.000112            Alphabet City           4   \n",
      "4         5    0.092146    0.000498            Arden Heights           5   \n",
      "\n",
      "         borough                                           geometry  \n",
      "0            EWR  POLYGON ((933100.918 192536.086, 933091.011 19...  \n",
      "1         Queens  MULTIPOLYGON (((1033269.244 172126.008, 103343...  \n",
      "2          Bronx  POLYGON ((1026308.770 256767.698, 1026495.593 ...  \n",
      "3      Manhattan  POLYGON ((992073.467 203714.076, 992068.667 20...  \n",
      "4  Staten Island  POLYGON ((935843.310 144283.336, 936046.565 14...  \n",
      "EPSG:2263\n"
     ]
    }
   ],
   "source": [
    "# Cargar el archivo shapefile\n",
    "shapefile_path = 'C:\\\\Users\\\\Usuario\\\\Documents\\\\proyectos\\\\NYC_TAXIS\\\\tlc_zones\\\\taxi_zones.shp'\n",
    "gdf = gpd.read_file(shapefile_path)\n",
    "\n",
    "# Verificar las primeras filas de la tabla de atributos\n",
    "print(gdf.head())\n",
    "\n",
    "# Verificar el sistema de coordenadas del archivo\n",
    "print(gdf.crs)"
   ]
  },
  {
   "cell_type": "markdown",
   "id": "6843eb0a-d39e-44e6-9045-8632bd2e8db5",
   "metadata": {},
   "source": [
    "Las coordenadas que aparecen en la columna 'geometry' del GeoDataFrame son coordenadas en proyección cartográfica del sistema de referencia EPSG:2263, que es una proyección plana con unidades en pies, utilizada para representar datos cartográficos de la ciudad de Nueva York. En este sistema, las coordenadas representan la distancia en pies desde un origen en la esquina suroeste del área de interés.\n",
    "\n",
    "Dado que las coordenadas que tenemos para las ubicaciones de las estaciones de medición de contaminantes se encuentran en grados, hay realizar primero una conversión a epsg:4326 que es un sistema de coordenadas en grados. "
   ]
  },
  {
   "cell_type": "code",
   "execution_count": 9,
   "id": "aaaafcd2-5953-4f02-8c82-5f94931fe617",
   "metadata": {},
   "outputs": [],
   "source": [
    "# Transformar las coordenadas a EPSG:4326\n",
    "gdf = gdf.to_crs(epsg=4326)"
   ]
  },
  {
   "cell_type": "code",
   "execution_count": 10,
   "id": "683e8ba4-953f-4138-9b2a-ba95c6beca0a",
   "metadata": {},
   "outputs": [
    {
     "name": "stdout",
     "output_type": "stream",
     "text": [
      "   OBJECTID  Shape_Leng  Shape_Area                     zone  LocationID  \\\n",
      "0         1    0.116357    0.000782           Newark Airport           1   \n",
      "1         2    0.433470    0.004866              Jamaica Bay           2   \n",
      "2         3    0.084341    0.000314  Allerton/Pelham Gardens           3   \n",
      "3         4    0.043567    0.000112            Alphabet City           4   \n",
      "4         5    0.092146    0.000498            Arden Heights           5   \n",
      "\n",
      "         borough                                           geometry  \n",
      "0            EWR  POLYGON ((-74.18445 40.69500, -74.18449 40.695...  \n",
      "1         Queens  MULTIPOLYGON (((-73.82338 40.63899, -73.82277 ...  \n",
      "2          Bronx  POLYGON ((-73.84793 40.87134, -73.84725 40.870...  \n",
      "3      Manhattan  POLYGON ((-73.97177 40.72582, -73.97179 40.725...  \n",
      "4  Staten Island  POLYGON ((-74.17422 40.56257, -74.17349 40.562...  \n",
      "EPSG:4326\n"
     ]
    }
   ],
   "source": [
    "# Verificar las primeras filas de la tabla de atributos\n",
    "print(gdf.head())\n",
    "\n",
    "# Verificar el sistema de coordenadas del archivo\n",
    "print(gdf.crs)"
   ]
  },
  {
   "cell_type": "code",
   "execution_count": 11,
   "id": "5eb3d0c6-fdd0-4d4a-9882-a486d37811ac",
   "metadata": {},
   "outputs": [],
   "source": [
    "# Guardamos el archivo con las coordenadas convertidas\n",
    "gdf.to_file('nyc_taxi_zones_wgs84.shp', driver='ESRI Shapefile')"
   ]
  },
  {
   "cell_type": "markdown",
   "id": "32647655-523f-4dec-846f-e5acff2f6791",
   "metadata": {},
   "source": [
    "Ahora, cómo la medición de las partículas PM 2.5 tiene un alcance de 4 km, queremos saber qué zonas de la ciudad de Nueva York se encuentran dentro del radio de medición de cada estación. \n",
    "\n",
    "Para ello utilizaremos la distinacia haversiana para calcular, para cada punto de cada polígono creado para cada zona tlc que considera la NYC Taxi & Limousine Commission para registrar los recorridos de los taxis.\n",
    "\n",
    "Después se agregarán a una lista (por estación de medición) las zonas para las que al menos uno de sus puntos de polígono se encuentren dentro del radio de 2km de la estación y se añadirá qué porcentaje de los puntos del polígono que componen la zona se encuentrán dentro de dicho radio, para posteriormente poder tomar una decisión respecto a qué zonas considerar para relacionar con la medición de contaminación de cada estación. "
   ]
  },
  {
   "cell_type": "code",
   "execution_count": 27,
   "id": "d4226438-9318-44d3-8766-1c741e5f2753",
   "metadata": {},
   "outputs": [],
   "source": [
    "import pandas as pd\n",
    "from math import radians, sin, cos, sqrt, atan2\n",
    "from shapely.geometry import Point\n",
    "\n",
    "def haversine_distance(lat1, lon1, lat2, lon2):\n",
    "    R = 6371000 # radio de la Tierra en metros\n",
    "    phi1 = radians(lat1)\n",
    "    phi2 = radians(lat2)\n",
    "    delta_phi = radians(lat2 - lat1)\n",
    "    delta_lambda = radians(lon2 - lon1)\n",
    "\n",
    "    a = sin(delta_phi / 2)**2 + cos(phi1) * cos(phi2) * sin(delta_lambda / 2)**2\n",
    "    c = 2 * atan2(sqrt(a), sqrt(1 - a))\n",
    "\n",
    "    return R * c\n",
    "\n",
    "# Cargar el archivo shapefile\n",
    "shapefile_path = 'nyc_taxi_zones_wgs84.shp'\n",
    "gdf = gpd.read_file(shapefile_path)\n",
    "\n",
    "# DataFrame de estaciones\n",
    "estaciones = pd.DataFrame({\n",
    "    'Station': ['IS 143', 'Morrisania', 'CCNY', 'Queens Near Road', 'Queens College', 'Maspeth', 'PS 274', 'PS 314', 'Port Richmond', 'Fresh Kills West'],\n",
    "    'Latitude': [40.848913, 40.830780, 40.819732, 40.739264, 40.736251, 40.726980, 40.694540, 40.641820, 40.633060, 40.580254],\n",
    "    'Longitude': [-73.930604, -73.920059, -73.948239, -73.817694, -73.821655, -73.893120, -73.927690, -74.018710, -74.137156, -74.198295]\n",
    "})\n",
    "\n",
    "# Lista para almacenar los resultados\n",
    "estaciones_con_location_ids = []\n",
    "\n",
    "# Radio en metros\n",
    "radius = 2000\n",
    "\n",
    "for i, estacion in estaciones.iterrows():\n",
    "    estacion_coords = Point(estacion['Longitude'], estacion['Latitude'])\n",
    "    estacion_name = estacion['Station']\n",
    "    estacion_location_ids = []\n",
    "\n",
    "    for j, zone in gdf.iterrows():\n",
    "        if zone['geometry'].contains(estacion_coords):\n",
    "            estacion_location_ids.append(zone['LocationID'])\n",
    "        else:\n",
    "            num_points_inside_radius = 0\n",
    "            if zone['geometry'].geom_type == 'Polygon':\n",
    "                # Si la geometría es un polígono simple\n",
    "                for point in zone['geometry'].exterior.coords:\n",
    "                    if haversine_distance(estacion_coords.y, estacion_coords.x, point[1], point[0]) <= radius:\n",
    "                        num_points_inside_radius += 1\n",
    "                if num_points_inside_radius > 0:\n",
    "                    percentage_inside_radius = round((num_points_inside_radius / len(zone['geometry'].exterior.coords)) * 100, 2)\n",
    "                    estacion_location_ids.append((zone['LocationID'], percentage_inside_radius))\n",
    "            elif zone['geometry'].geom_type == 'MultiPolygon':\n",
    "                # Si la geometría es un multipolígono\n",
    "                for polygon in zone['geometry'].geoms:\n",
    "                    # Iterar sobre cada polígono en el multipolígono\n",
    "                    num_points_inside_radius_polygon = 0\n",
    "                    for point in polygon.exterior.coords:\n",
    "                        if haversine_distance(estacion_coords.y, estacion_coords.x, point[1], point[0]) <= radius:\n",
    "                            num_points_inside_radius_polygon += 1\n",
    "                    if num_points_inside_radius_polygon > 0:\n",
    "                        percentage_inside_radius_polygon = round((num_points_inside_radius_polygon / len(polygon.exterior.coords)) * 100, 2)\n",
    "                        estacion_location_ids.append((zone['LocationID'], percentage_inside_radius_polygon))\n",
    "                    # Iterar sobre cada interior en el polígono, si existe\n",
    "                    for interior in polygon.interiors:\n",
    "                        num_points_inside_radius_interior = 0\n",
    "                        for point in interior.coords:\n",
    "                            if haversine_distance(estacion_coords.y, estacion_coords.x, point[1], point[0]) <= radius:\n",
    "                                num_points_inside_radius_interior += 1\n",
    "                        if num_points_inside_radius_interior > 0:\n",
    "                            percentage_inside_radius_interior = round((num_points_inside_radius_interior / len(interior.coords)) * 100, 2)\n",
    "                            estacion_location_ids.append((zone['LocationID'], percentage_inside_radius_interior))\n",
    "\n",
    "    # Añadir la estación y los location_ids a la lista de resultados\n",
    "    estaciones_con_location_ids.append({\n",
    "        'Station': estacion_name,\n",
    "        'Location IDs': estacion_location_ids\n",
    "    })\n"
   ]
  },
  {
   "cell_type": "code",
   "execution_count": 28,
   "id": "95e63b37-8c1d-44c7-81ef-dd3fe740f5d5",
   "metadata": {},
   "outputs": [
    {
     "data": {
      "text/plain": [
       "[{'Station': 'IS 143',\n",
       "  'Location IDs': [(42, 28.97),\n",
       "   (69, 18.08),\n",
       "   (119, 76.81),\n",
       "   (120, 90.2),\n",
       "   (127, 57.61),\n",
       "   (127, 100.0),\n",
       "   (128, 0.16),\n",
       "   (136, 6.25),\n",
       "   (169, 41.98),\n",
       "   (235, 67.32),\n",
       "   243,\n",
       "   (244, 81.42),\n",
       "   (247, 40.31)]},\n",
       " {'Station': 'Morrisania',\n",
       "  'Location IDs': [(42, 81.0),\n",
       "   (47, 49.32),\n",
       "   (59, 24.29),\n",
       "   (60, 3.57),\n",
       "   69,\n",
       "   (74, 7.31),\n",
       "   (116, 14.95),\n",
       "   (119, 100.0),\n",
       "   (120, 57.98),\n",
       "   (147, 25.37),\n",
       "   (159, 84.56),\n",
       "   (167, 79.39),\n",
       "   (168, 10.75),\n",
       "   (169, 43.21),\n",
       "   (235, 34.63),\n",
       "   (244, 26.23),\n",
       "   (247, 91.62)]},\n",
       " {'Station': 'CCNY',\n",
       "  'Location IDs': [(41, 50.72),\n",
       "   (42, 90.65),\n",
       "   (69, 10.17),\n",
       "   (74, 44.52),\n",
       "   (116, 100.0),\n",
       "   (119, 23.19),\n",
       "   (120, 22.13),\n",
       "   152,\n",
       "   (159, 4.03),\n",
       "   (166, 67.57),\n",
       "   (168, 14.93),\n",
       "   (244, 26.78),\n",
       "   (247, 42.41)]},\n",
       " {'Station': 'Queens Near Road',\n",
       "  'Location IDs': [(9, 23.81),\n",
       "   (73, 52.69),\n",
       "   (92, 44.75),\n",
       "   (93, 18.52),\n",
       "   (98, 5.08),\n",
       "   (121, 60.27),\n",
       "   (135, 72.58),\n",
       "   192]},\n",
       " {'Station': 'Queens College',\n",
       "  'Location IDs': [(73, 29.03),\n",
       "   (92, 41.99),\n",
       "   (93, 24.18),\n",
       "   (95, 10.5),\n",
       "   (121, 55.25),\n",
       "   135,\n",
       "   (192, 67.78)]},\n",
       " {'Station': 'Maspeth',\n",
       "  'Location IDs': [(82, 65.09),\n",
       "   (83, 89.79),\n",
       "   157,\n",
       "   (160, 69.47),\n",
       "   (196, 21.14),\n",
       "   (198, 30.54),\n",
       "   (226, 3.52),\n",
       "   (260, 31.62)]},\n",
       " {'Station': 'PS 274',\n",
       "  'Location IDs': [(17, 44.26),\n",
       "   (36, 90.91),\n",
       "   37,\n",
       "   (61, 34.85),\n",
       "   (80, 21.41),\n",
       "   (177, 26.88),\n",
       "   (198, 30.54),\n",
       "   (217, 2.5),\n",
       "   (225, 99.42)]},\n",
       " {'Station': 'PS 314',\n",
       "  'Location IDs': [(14, 44.79),\n",
       "   (26, 23.08),\n",
       "   (67, 20.69),\n",
       "   (111, 7.14),\n",
       "   (227, 85.0),\n",
       "   228]},\n",
       " {'Station': 'Port Richmond',\n",
       "  'Location IDs': [(156, 12.67),\n",
       "   187,\n",
       "   (206, 35.05),\n",
       "   (245, 22.64),\n",
       "   (251, 38.39)]},\n",
       " {'Station': 'Fresh Kills West', 'Location IDs': [(5, 1.76), (23, 43.91), 99]}]"
      ]
     },
     "execution_count": 28,
     "metadata": {},
     "output_type": "execute_result"
    }
   ],
   "source": [
    "estaciones_con_location_ids"
   ]
  }
 ],
 "metadata": {
  "kernelspec": {
   "display_name": "Python 3 (ipykernel)",
   "language": "python",
   "name": "python3"
  },
  "language_info": {
   "codemirror_mode": {
    "name": "ipython",
    "version": 3
   },
   "file_extension": ".py",
   "mimetype": "text/x-python",
   "name": "python",
   "nbconvert_exporter": "python",
   "pygments_lexer": "ipython3",
   "version": "3.9.16"
  }
 },
 "nbformat": 4,
 "nbformat_minor": 5
}
