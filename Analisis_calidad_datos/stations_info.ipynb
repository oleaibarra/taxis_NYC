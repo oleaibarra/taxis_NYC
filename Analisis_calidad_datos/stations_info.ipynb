{
 "cells": [
  {
   "cell_type": "markdown",
   "id": "d18621cd-083c-4957-b276-890cd010eaf7",
   "metadata": {},
   "source": [
    "## EPA Air Data Collection"
   ]
  },
  {
   "cell_type": "markdown",
   "id": "a0c4d9a5-d911-4e95-8b0e-78ed3eed072a",
   "metadata": {},
   "source": [
    "EPA son las siglas en inglés de \"Environmental Protection Agency\", que en español significa Agencia de Protección Ambiental. La EPA es una agencia federal del gobierno de los Estados Unidos que se encarga de proteger la salud humana y el medio ambiente mediante la regulación y el control de la contaminación en el aire, agua y suelo. La EPA tiene una amplia gama de responsabilidades, incluyendo el desarrollo y la aplicación de estándares ambientales, la realización de investigaciones científicas y la educación del público sobre cuestiones ambientales. "
   ]
  },
  {
   "cell_type": "markdown",
   "id": "5041d589-b667-40d1-b17c-d20f24c64da1",
   "metadata": {},
   "source": [
    "### Información sobre monitores o estaciones de medición"
   ]
  },
  {
   "cell_type": "markdown",
   "id": "c42d0eee-aa4a-4216-92f6-2b1630d71606",
   "metadata": {},
   "source": [
    "En este etapa utilizamos la información proporcionada en: \n",
    "https://epa.maps.arcgis.com/apps/webappviewer/index.html?id=5f239fd3e72f424f98ef3d5def547eb5\n",
    "\n",
    "Hay que seleccionar una capa (layer) en el mapa. Después, seleccionando cualquier punto desplegado(cualquier estación) se abre un menú del que se selecciona la opción de tres puntos '...' en la esquina inferior derecha. Lo que abre otro pequeño menú y del que seleccionamos la opción 'View in attribute table', que desplegará la tabla de atrbutos. En dicha tabla hay que seleccionar 'Filter by map extent'. Una vez cargado el contenido hay que seleccionar 'Options'>'Filter'. \n",
    "En filter selecionar 'add expression' y filatar por estado y por ciudad. Después seleccionar la opción 'export all to csv'. \n",
    "\n",
    "Repetir el proceso para cada contaminante del que se deseé información general. "
   ]
  },
  {
   "cell_type": "markdown",
   "id": "bac93aa0-13a4-448a-98c8-0aa68e01db73",
   "metadata": {},
   "source": [
    "En nuestro caso se seleccionó información para los siguientes principales contaminanates: 'SO2', 'PM10', 'Ozone', 'PM2.5 - NAAQS/AQI', 'NO2', 'CO', cuya información se unió en el archivo 'nyc_air_quality_stations.csv'"
   ]
  },
  {
   "cell_type": "code",
   "execution_count": 33,
   "id": "f0d1ab55-ec55-4d84-b504-bf26e3a7e1df",
   "metadata": {},
   "outputs": [],
   "source": [
    "import pandas as pd"
   ]
  },
  {
   "cell_type": "code",
   "execution_count": 34,
   "id": "5a17a371-3eb5-439a-be8a-0a2f15124ab7",
   "metadata": {},
   "outputs": [],
   "source": [
    "df = pd.read_csv('nyc_air_quality_stations.csv')"
   ]
  },
  {
   "cell_type": "code",
   "execution_count": 35,
   "id": "912e4f0b-a470-4b70-b981-151a325410c6",
   "metadata": {},
   "outputs": [
    {
     "data": {
      "text/plain": [
       "Index(['AQS_Site_ID', 'POC', 'CBSA', 'Local_Site_Name', 'Address', 'Latitude',\n",
       "       'Longitude', 'Datum', 'LatLon_Accuracy_meters', 'Elevation_meters_MSL',\n",
       "       'Parameter_Name', 'Monitor_Start_Date', 'Last_Sample_Date',\n",
       "       'Measurement_Scale', 'Measurement_Scale_Definition', 'Sample_Duration',\n",
       "       'Sample_Collection_Frequency', 'Sample_Collection_Method',\n",
       "       'Method_Reference_ID', 'FRMFEM', 'Monitor_Type', 'Reporting_Agency',\n",
       "       'Sample_Analysis_Method'],\n",
       "      dtype='object')"
      ]
     },
     "execution_count": 35,
     "metadata": {},
     "output_type": "execute_result"
    }
   ],
   "source": [
    "df.columns"
   ]
  },
  {
   "cell_type": "code",
   "execution_count": 36,
   "id": "03180b34-b624-460a-b3cc-c2371d62b486",
   "metadata": {},
   "outputs": [],
   "source": [
    "df = df.sort_values('Parameter_Name', ascending=False)"
   ]
  },
  {
   "cell_type": "code",
   "execution_count": 37,
   "id": "9ef7983c-4616-4b80-841e-97e94a716202",
   "metadata": {},
   "outputs": [
    {
     "name": "stdout",
     "output_type": "stream",
     "text": [
      "<class 'pandas.core.frame.DataFrame'>\n",
      "Int64Index: 32 entries, 0 to 31\n",
      "Data columns (total 23 columns):\n",
      " #   Column                        Non-Null Count  Dtype  \n",
      "---  ------                        --------------  -----  \n",
      " 0   AQS_Site_ID                   32 non-null     object \n",
      " 1   POC                           32 non-null     int64  \n",
      " 2   CBSA                          32 non-null     object \n",
      " 3   Local_Site_Name               32 non-null     object \n",
      " 4   Address                       32 non-null     object \n",
      " 5   Latitude                      32 non-null     float64\n",
      " 6   Longitude                     32 non-null     float64\n",
      " 7   Datum                         32 non-null     object \n",
      " 8   LatLon_Accuracy_meters        32 non-null     int64  \n",
      " 9   Elevation_meters_MSL          32 non-null     int64  \n",
      " 10  Parameter_Name                32 non-null     object \n",
      " 11  Monitor_Start_Date            32 non-null     object \n",
      " 12  Last_Sample_Date              32 non-null     object \n",
      " 13  Measurement_Scale             32 non-null     object \n",
      " 14  Measurement_Scale_Definition  32 non-null     object \n",
      " 15  Sample_Duration               32 non-null     object \n",
      " 16  Sample_Collection_Frequency   13 non-null     object \n",
      " 17  Sample_Collection_Method      32 non-null     object \n",
      " 18  Method_Reference_ID           32 non-null     object \n",
      " 19  FRMFEM                        32 non-null     object \n",
      " 20  Monitor_Type                  32 non-null     object \n",
      " 21  Reporting_Agency              32 non-null     object \n",
      " 22  Sample_Analysis_Method        19 non-null     object \n",
      "dtypes: float64(2), int64(3), object(18)\n",
      "memory usage: 6.0+ KB\n"
     ]
    }
   ],
   "source": [
    "df.info()"
   ]
  },
  {
   "cell_type": "markdown",
   "id": "de8f8b50-2f2c-40fb-bcd5-e30290febffd",
   "metadata": {},
   "source": [
    "Listamos los nombres de los parámetros de los que tenemos info por estación/monitor"
   ]
  },
  {
   "cell_type": "code",
   "execution_count": 38,
   "id": "97f2b76f-d47c-4a87-b876-4ebacee3c7e8",
   "metadata": {},
   "outputs": [
    {
     "data": {
      "text/plain": [
       "array(['SO2', 'PM2.5 - NAAQS/AQI', 'PM10', 'Ozone', 'NO2', 'CO'],\n",
       "      dtype=object)"
      ]
     },
     "execution_count": 38,
     "metadata": {},
     "output_type": "execute_result"
    }
   ],
   "source": [
    "df['Parameter_Name'].unique()"
   ]
  },
  {
   "cell_type": "markdown",
   "id": "25270554-405e-4035-9bec-72ed89651266",
   "metadata": {},
   "source": [
    "Generamos dataframe y exportamos archivo parquet para parámetro 'SO2'"
   ]
  },
  {
   "cell_type": "code",
   "execution_count": 39,
   "id": "00015755-64a8-4824-9dc6-4c9e9aee7dd8",
   "metadata": {},
   "outputs": [],
   "source": [
    "so2_df = (df[df['Parameter_Name'] == 'SO2']).copy()"
   ]
  },
  {
   "cell_type": "code",
   "execution_count": 40,
   "id": "b9c4a470-2ba2-461f-9765-90c42e683177",
   "metadata": {},
   "outputs": [],
   "source": [
    "so2 = so2_df[['AQS_Site_ID','Local_Site_Name','Latitude',\n",
    "       'Longitude','Measurement_Scale', 'Measurement_Scale_Definition']]"
   ]
  },
  {
   "cell_type": "code",
   "execution_count": 41,
   "id": "1916de2e-292f-4bc4-9783-675dcb0a34f4",
   "metadata": {},
   "outputs": [],
   "source": [
    "so2.to_parquet('so2.parquet', index=False)"
   ]
  },
  {
   "cell_type": "markdown",
   "id": "b1c8a469-9c62-404a-9709-6222b5579439",
   "metadata": {},
   "source": [
    "Generamos dataframe y exportamos archivo parquet para parámetro 'PM10'"
   ]
  },
  {
   "cell_type": "code",
   "execution_count": 42,
   "id": "c6a125da-2f8c-4f5b-a66d-1928e18f22d3",
   "metadata": {},
   "outputs": [],
   "source": [
    "pm10_df = (df[df['Parameter_Name'] == 'PM10']).copy()\n",
    "pm10 = pm10_df[['AQS_Site_ID','Local_Site_Name','Latitude',\n",
    "       'Longitude','Measurement_Scale', 'Measurement_Scale_Definition']]\n",
    "pm10.to_parquet('pm10.parquet', index=False)"
   ]
  },
  {
   "cell_type": "markdown",
   "id": "aa15384e-386a-4e85-b9c8-1f6f5d81a171",
   "metadata": {},
   "source": [
    "Generamos dataframe y exportamos archivo parquet para parámetro 'Ozone'"
   ]
  },
  {
   "cell_type": "code",
   "execution_count": 43,
   "id": "424e463b-408c-46e1-b2ab-55349ac201e9",
   "metadata": {},
   "outputs": [],
   "source": [
    "ozone_df = (df[df['Parameter_Name'] == 'Ozone']).copy()\n",
    "ozone = ozone_df[['AQS_Site_ID','Local_Site_Name','Latitude',\n",
    "       'Longitude','Measurement_Scale', 'Measurement_Scale_Definition']]\n",
    "ozone.to_parquet('ozone.parquet', index=False)"
   ]
  },
  {
   "cell_type": "markdown",
   "id": "040ae21a-a320-43c7-8a3d-927313ba1bae",
   "metadata": {},
   "source": [
    "Generamos dataframe y exportamos archivo parquet para parámetro 'PM2.5 - NAAQS/AQI'"
   ]
  },
  {
   "cell_type": "code",
   "execution_count": 44,
   "id": "d571ce3a-21ff-499c-a101-4c29c1655ad4",
   "metadata": {},
   "outputs": [],
   "source": [
    "pm25_df = (df[df['Parameter_Name'] == 'PM2.5 - NAAQS/AQI']).copy()\n",
    "pm25 = pm25_df[['AQS_Site_ID','Local_Site_Name','Latitude',\n",
    "       'Longitude','Measurement_Scale', 'Measurement_Scale_Definition']]\n",
    "pm25.to_parquet('pm25.parquet', index=False)"
   ]
  },
  {
   "cell_type": "markdown",
   "id": "c5431f32-6af2-4f01-92c2-0ade4e94b4ae",
   "metadata": {},
   "source": [
    "Generamos dataframe y exportamos archivo parquet para parámetro 'NO2'"
   ]
  },
  {
   "cell_type": "code",
   "execution_count": 45,
   "id": "2ee94573-95b9-4789-b631-e5b4cd44815c",
   "metadata": {},
   "outputs": [],
   "source": [
    "no2_df = (df[df['Parameter_Name'] == 'NO2']).copy()\n",
    "no2 = no2_df[['AQS_Site_ID','Local_Site_Name','Latitude',\n",
    "       'Longitude','Measurement_Scale', 'Measurement_Scale_Definition']]\n",
    "no2.to_parquet('no2.parquet', index=False)"
   ]
  },
  {
   "cell_type": "markdown",
   "id": "7f49f70d-ded1-476e-b50d-5bd417f2ebc2",
   "metadata": {},
   "source": [
    "Generamos dataframe y exportamos archivo parquet para parámetro 'CO'"
   ]
  },
  {
   "cell_type": "code",
   "execution_count": 48,
   "id": "ce42f5ca-17c3-44cf-afe1-c7c445dc46e4",
   "metadata": {},
   "outputs": [],
   "source": [
    "co_df = (df[df['Parameter_Name'] == 'CO']).copy()\n",
    "co = co_df[['AQS_Site_ID','Local_Site_Name','Latitude',\n",
    "       'Longitude','Measurement_Scale', 'Measurement_Scale_Definition']]\n",
    "co.to_parquet('co.parquet', index=False)"
   ]
  },
  {
   "cell_type": "code",
   "execution_count": 49,
   "id": "74cecf5e-ee46-4410-ae6f-cb926fecc53e",
   "metadata": {},
   "outputs": [
    {
     "data": {
      "text/html": [
       "<div>\n",
       "<style scoped>\n",
       "    .dataframe tbody tr th:only-of-type {\n",
       "        vertical-align: middle;\n",
       "    }\n",
       "\n",
       "    .dataframe tbody tr th {\n",
       "        vertical-align: top;\n",
       "    }\n",
       "\n",
       "    .dataframe thead th {\n",
       "        text-align: right;\n",
       "    }\n",
       "</style>\n",
       "<table border=\"1\" class=\"dataframe\">\n",
       "  <thead>\n",
       "    <tr style=\"text-align: right;\">\n",
       "      <th></th>\n",
       "      <th>AQS_Site_ID</th>\n",
       "      <th>Local_Site_Name</th>\n",
       "      <th>Latitude</th>\n",
       "      <th>Longitude</th>\n",
       "      <th>Measurement_Scale</th>\n",
       "      <th>Measurement_Scale_Definition</th>\n",
       "    </tr>\n",
       "  </thead>\n",
       "  <tbody>\n",
       "    <tr>\n",
       "      <th>28</th>\n",
       "      <td>36-005-0133</td>\n",
       "      <td>PFIZER LAB SITE</td>\n",
       "      <td>40.867900</td>\n",
       "      <td>-73.878090</td>\n",
       "      <td>URBAN SCALE</td>\n",
       "      <td>4 KM TO 50 KM</td>\n",
       "    </tr>\n",
       "    <tr>\n",
       "      <th>29</th>\n",
       "      <td>36-061-0135</td>\n",
       "      <td>CCNY</td>\n",
       "      <td>40.819760</td>\n",
       "      <td>-73.948250</td>\n",
       "      <td>URBAN SCALE</td>\n",
       "      <td>4 KM TO 50 KM</td>\n",
       "    </tr>\n",
       "    <tr>\n",
       "      <th>30</th>\n",
       "      <td>36-081-0124</td>\n",
       "      <td>QUEENS COLLEGE 2</td>\n",
       "      <td>40.736140</td>\n",
       "      <td>-73.821530</td>\n",
       "      <td>NEIGHBORHOOD</td>\n",
       "      <td>500 M TO 4KM</td>\n",
       "    </tr>\n",
       "    <tr>\n",
       "      <th>31</th>\n",
       "      <td>36-081-0125</td>\n",
       "      <td>Queens College Near Road</td>\n",
       "      <td>40.739264</td>\n",
       "      <td>-73.817694</td>\n",
       "      <td>MIDDLE SCALE</td>\n",
       "      <td>100 M TO 500 M</td>\n",
       "    </tr>\n",
       "  </tbody>\n",
       "</table>\n",
       "</div>"
      ],
      "text/plain": [
       "    AQS_Site_ID           Local_Site_Name   Latitude  Longitude  \\\n",
       "28  36-005-0133           PFIZER LAB SITE  40.867900 -73.878090   \n",
       "29  36-061-0135                      CCNY  40.819760 -73.948250   \n",
       "30  36-081-0124          QUEENS COLLEGE 2  40.736140 -73.821530   \n",
       "31  36-081-0125  Queens College Near Road  40.739264 -73.817694   \n",
       "\n",
       "   Measurement_Scale Measurement_Scale_Definition  \n",
       "28       URBAN SCALE                4 KM TO 50 KM  \n",
       "29       URBAN SCALE                4 KM TO 50 KM  \n",
       "30      NEIGHBORHOOD                 500 M TO 4KM  \n",
       "31      MIDDLE SCALE               100 M TO 500 M  "
      ]
     },
     "execution_count": 49,
     "metadata": {},
     "output_type": "execute_result"
    }
   ],
   "source": [
    "co"
   ]
  },
  {
   "cell_type": "markdown",
   "id": "dac37db2-cc73-42f4-aae4-b2f64628e139",
   "metadata": {},
   "source": [
    "Con esta información podemos localizar a los laboratorios en un mapa e identificar a las zonas de taxis que caen dentro del alcance de la medición correspondiente. "
   ]
  }
 ],
 "metadata": {
  "kernelspec": {
   "display_name": "Python 3 (ipykernel)",
   "language": "python",
   "name": "python3"
  },
  "language_info": {
   "codemirror_mode": {
    "name": "ipython",
    "version": 3
   },
   "file_extension": ".py",
   "mimetype": "text/x-python",
   "name": "python",
   "nbconvert_exporter": "python",
   "pygments_lexer": "ipython3",
   "version": "3.9.16"
  }
 },
 "nbformat": 4,
 "nbformat_minor": 5
}
