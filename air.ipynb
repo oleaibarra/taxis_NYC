{
 "cells": [
  {
   "cell_type": "code",
   "execution_count": 1,
   "id": "f178987f-c44a-4f9e-b18f-21719f3b956c",
   "metadata": {},
   "outputs": [],
   "source": [
    "import pandas as pd"
   ]
  },
  {
   "cell_type": "code",
   "execution_count": 2,
   "id": "806460f9-8dd2-46a6-a43a-4c0f0f000508",
   "metadata": {},
   "outputs": [],
   "source": [
    "df = pd.read_csv('Air_Quality.csv')"
   ]
  },
  {
   "cell_type": "code",
   "execution_count": 3,
   "id": "2fcd9fdf-fbc9-4fce-bc59-b6363fb927f3",
   "metadata": {},
   "outputs": [
    {
     "name": "stdout",
     "output_type": "stream",
     "text": [
      "<class 'pandas.core.frame.DataFrame'>\n",
      "RangeIndex: 16122 entries, 0 to 16121\n",
      "Data columns (total 12 columns):\n",
      " #   Column          Non-Null Count  Dtype  \n",
      "---  ------          --------------  -----  \n",
      " 0   Unique ID       16122 non-null  int64  \n",
      " 1   Indicator ID    16122 non-null  int64  \n",
      " 2   Name            16122 non-null  object \n",
      " 3   Measure         16122 non-null  object \n",
      " 4   Measure Info    16122 non-null  object \n",
      " 5   Geo Type Name   16122 non-null  object \n",
      " 6   Geo Join ID     16122 non-null  int64  \n",
      " 7   Geo Place Name  16122 non-null  object \n",
      " 8   Time Period     16122 non-null  object \n",
      " 9   Start_Date      16122 non-null  object \n",
      " 10  Data Value      16122 non-null  float64\n",
      " 11  Message         0 non-null      float64\n",
      "dtypes: float64(2), int64(3), object(7)\n",
      "memory usage: 1.5+ MB\n"
     ]
    }
   ],
   "source": [
    "df.info()"
   ]
  },
  {
   "cell_type": "code",
   "execution_count": 25,
   "id": "ed322acf-9870-4568-bd59-6d0a4bec3a61",
   "metadata": {},
   "outputs": [
    {
     "data": {
      "text/html": [
       "<div>\n",
       "<style scoped>\n",
       "    .dataframe tbody tr th:only-of-type {\n",
       "        vertical-align: middle;\n",
       "    }\n",
       "\n",
       "    .dataframe tbody tr th {\n",
       "        vertical-align: top;\n",
       "    }\n",
       "\n",
       "    .dataframe thead th {\n",
       "        text-align: right;\n",
       "    }\n",
       "</style>\n",
       "<table border=\"1\" class=\"dataframe\">\n",
       "  <thead>\n",
       "    <tr style=\"text-align: right;\">\n",
       "      <th></th>\n",
       "      <th>Geo Type Name</th>\n",
       "      <th>Geo Join ID</th>\n",
       "      <th>Geo Place Name</th>\n",
       "    </tr>\n",
       "  </thead>\n",
       "  <tbody>\n",
       "    <tr>\n",
       "      <th>0</th>\n",
       "      <td>CD</td>\n",
       "      <td>313</td>\n",
       "      <td>Coney Island (CD13)</td>\n",
       "    </tr>\n",
       "    <tr>\n",
       "      <th>1</th>\n",
       "      <td>CD</td>\n",
       "      <td>313</td>\n",
       "      <td>Coney Island (CD13)</td>\n",
       "    </tr>\n",
       "    <tr>\n",
       "      <th>2</th>\n",
       "      <td>Borough</td>\n",
       "      <td>1</td>\n",
       "      <td>Bronx</td>\n",
       "    </tr>\n",
       "    <tr>\n",
       "      <th>3</th>\n",
       "      <td>Borough</td>\n",
       "      <td>1</td>\n",
       "      <td>Bronx</td>\n",
       "    </tr>\n",
       "    <tr>\n",
       "      <th>4</th>\n",
       "      <td>CD</td>\n",
       "      <td>211</td>\n",
       "      <td>Morris Park and Bronxdale (CD11)</td>\n",
       "    </tr>\n",
       "    <tr>\n",
       "      <th>...</th>\n",
       "      <td>...</td>\n",
       "      <td>...</td>\n",
       "      <td>...</td>\n",
       "    </tr>\n",
       "    <tr>\n",
       "      <th>16117</th>\n",
       "      <td>CD</td>\n",
       "      <td>306</td>\n",
       "      <td>Park Slope and Carroll Gardens (CD6)</td>\n",
       "    </tr>\n",
       "    <tr>\n",
       "      <th>16118</th>\n",
       "      <td>CD</td>\n",
       "      <td>305</td>\n",
       "      <td>East New York and Starrett City (CD5)</td>\n",
       "    </tr>\n",
       "    <tr>\n",
       "      <th>16119</th>\n",
       "      <td>CD</td>\n",
       "      <td>304</td>\n",
       "      <td>Bushwick (CD4)</td>\n",
       "    </tr>\n",
       "    <tr>\n",
       "      <th>16120</th>\n",
       "      <td>CD</td>\n",
       "      <td>303</td>\n",
       "      <td>Bedford Stuyvesant (CD3)</td>\n",
       "    </tr>\n",
       "    <tr>\n",
       "      <th>16121</th>\n",
       "      <td>CD</td>\n",
       "      <td>302</td>\n",
       "      <td>Fort Greene and Brooklyn Heights (CD2)</td>\n",
       "    </tr>\n",
       "  </tbody>\n",
       "</table>\n",
       "<p>16122 rows × 3 columns</p>\n",
       "</div>"
      ],
      "text/plain": [
       "      Geo Type Name  Geo Join ID                          Geo Place Name\n",
       "0                CD          313                     Coney Island (CD13)\n",
       "1                CD          313                     Coney Island (CD13)\n",
       "2           Borough            1                                   Bronx\n",
       "3           Borough            1                                   Bronx\n",
       "4                CD          211        Morris Park and Bronxdale (CD11)\n",
       "...             ...          ...                                     ...\n",
       "16117            CD          306    Park Slope and Carroll Gardens (CD6)\n",
       "16118            CD          305   East New York and Starrett City (CD5)\n",
       "16119            CD          304                          Bushwick (CD4)\n",
       "16120            CD          303                Bedford Stuyvesant (CD3)\n",
       "16121            CD          302  Fort Greene and Brooklyn Heights (CD2)\n",
       "\n",
       "[16122 rows x 3 columns]"
      ]
     },
     "execution_count": 25,
     "metadata": {},
     "output_type": "execute_result"
    }
   ],
   "source": [
    "df[['Geo Type Name', 'Geo Join ID', 'Geo Place Name']]"
   ]
  },
  {
   "cell_type": "code",
   "execution_count": 90,
   "id": "921fc55d-bf3d-4ecd-bd98-e57bc3a8bb26",
   "metadata": {},
   "outputs": [
    {
     "data": {
      "text/plain": [
       "array([      313,         1,       211,       212,         2,       301,\n",
       "             302,       303,       304,       305,       306,       307,\n",
       "             308,       206,       207,       101,       102,       103,\n",
       "             104,       105,       106,       107,       201,       202,\n",
       "             203,       204,       205,       208,       209,       210,\n",
       "             309,       310,       401,       402,       403,       404,\n",
       "             405,       406,       407,       408,       409,       410,\n",
       "             501,       502,       503,       504,         3,         4,\n",
       "               5,       311,       108,       109,       110,       111,\n",
       "             112,       312,       314,       315,       316,       317,\n",
       "             318,       411,       412,       413,       414,    305307,\n",
       "          306308,    309310,    404406,    501502,    503504, 105106107],\n",
       "      dtype=int64)"
      ]
     },
     "execution_count": 90,
     "metadata": {},
     "output_type": "execute_result"
    }
   ],
   "source": [
    "df['Geo Join ID'].unique()"
   ]
  },
  {
   "cell_type": "code",
   "execution_count": 5,
   "id": "f5e8c90f-cf74-44d0-b728-9025f3714227",
   "metadata": {},
   "outputs": [
    {
     "data": {
      "text/html": [
       "<div>\n",
       "<style scoped>\n",
       "    .dataframe tbody tr th:only-of-type {\n",
       "        vertical-align: middle;\n",
       "    }\n",
       "\n",
       "    .dataframe tbody tr th {\n",
       "        vertical-align: top;\n",
       "    }\n",
       "\n",
       "    .dataframe thead th {\n",
       "        text-align: right;\n",
       "    }\n",
       "</style>\n",
       "<table border=\"1\" class=\"dataframe\">\n",
       "  <thead>\n",
       "    <tr style=\"text-align: right;\">\n",
       "      <th></th>\n",
       "      <th>Unique ID</th>\n",
       "      <th>Indicator ID</th>\n",
       "      <th>Name</th>\n",
       "      <th>Measure</th>\n",
       "      <th>Measure Info</th>\n",
       "      <th>Geo Type Name</th>\n",
       "      <th>Geo Join ID</th>\n",
       "      <th>Geo Place Name</th>\n",
       "      <th>Time Period</th>\n",
       "      <th>Start_Date</th>\n",
       "      <th>Data Value</th>\n",
       "      <th>Message</th>\n",
       "    </tr>\n",
       "  </thead>\n",
       "  <tbody>\n",
       "    <tr>\n",
       "      <th>65</th>\n",
       "      <td>130397</td>\n",
       "      <td>640</td>\n",
       "      <td>Boiler Emissions- Total SO2 Emissions</td>\n",
       "      <td>Number per km2</td>\n",
       "      <td>number</td>\n",
       "      <td>UHF42</td>\n",
       "      <td>101</td>\n",
       "      <td>Kingsbridge - Riverdale</td>\n",
       "      <td>2013</td>\n",
       "      <td>01/01/2013</td>\n",
       "      <td>17.6</td>\n",
       "      <td>NaN</td>\n",
       "    </tr>\n",
       "    <tr>\n",
       "      <th>66</th>\n",
       "      <td>130398</td>\n",
       "      <td>640</td>\n",
       "      <td>Boiler Emissions- Total SO2 Emissions</td>\n",
       "      <td>Number per km2</td>\n",
       "      <td>number</td>\n",
       "      <td>UHF42</td>\n",
       "      <td>102</td>\n",
       "      <td>Northeast Bronx</td>\n",
       "      <td>2013</td>\n",
       "      <td>01/01/2013</td>\n",
       "      <td>2.2</td>\n",
       "      <td>NaN</td>\n",
       "    </tr>\n",
       "    <tr>\n",
       "      <th>67</th>\n",
       "      <td>130399</td>\n",
       "      <td>640</td>\n",
       "      <td>Boiler Emissions- Total SO2 Emissions</td>\n",
       "      <td>Number per km2</td>\n",
       "      <td>number</td>\n",
       "      <td>UHF42</td>\n",
       "      <td>103</td>\n",
       "      <td>Fordham - Bronx Pk</td>\n",
       "      <td>2013</td>\n",
       "      <td>01/01/2013</td>\n",
       "      <td>24.5</td>\n",
       "      <td>NaN</td>\n",
       "    </tr>\n",
       "    <tr>\n",
       "      <th>68</th>\n",
       "      <td>130400</td>\n",
       "      <td>640</td>\n",
       "      <td>Boiler Emissions- Total SO2 Emissions</td>\n",
       "      <td>Number per km2</td>\n",
       "      <td>number</td>\n",
       "      <td>UHF42</td>\n",
       "      <td>104</td>\n",
       "      <td>Pelham - Throgs Neck</td>\n",
       "      <td>2013</td>\n",
       "      <td>01/01/2013</td>\n",
       "      <td>4.4</td>\n",
       "      <td>NaN</td>\n",
       "    </tr>\n",
       "    <tr>\n",
       "      <th>69</th>\n",
       "      <td>130401</td>\n",
       "      <td>640</td>\n",
       "      <td>Boiler Emissions- Total SO2 Emissions</td>\n",
       "      <td>Number per km2</td>\n",
       "      <td>number</td>\n",
       "      <td>UHF42</td>\n",
       "      <td>105</td>\n",
       "      <td>Crotona -Tremont</td>\n",
       "      <td>2013</td>\n",
       "      <td>01/01/2013</td>\n",
       "      <td>16.9</td>\n",
       "      <td>NaN</td>\n",
       "    </tr>\n",
       "    <tr>\n",
       "      <th>...</th>\n",
       "      <td>...</td>\n",
       "      <td>...</td>\n",
       "      <td>...</td>\n",
       "      <td>...</td>\n",
       "      <td>...</td>\n",
       "      <td>...</td>\n",
       "      <td>...</td>\n",
       "      <td>...</td>\n",
       "      <td>...</td>\n",
       "      <td>...</td>\n",
       "      <td>...</td>\n",
       "      <td>...</td>\n",
       "    </tr>\n",
       "    <tr>\n",
       "      <th>204</th>\n",
       "      <td>130536</td>\n",
       "      <td>642</td>\n",
       "      <td>Boiler Emissions- Total NOx Emissions</td>\n",
       "      <td>Number per km2</td>\n",
       "      <td>number</td>\n",
       "      <td>Borough</td>\n",
       "      <td>1</td>\n",
       "      <td>Bronx</td>\n",
       "      <td>2013</td>\n",
       "      <td>01/01/2013</td>\n",
       "      <td>42.7</td>\n",
       "      <td>NaN</td>\n",
       "    </tr>\n",
       "    <tr>\n",
       "      <th>205</th>\n",
       "      <td>130537</td>\n",
       "      <td>642</td>\n",
       "      <td>Boiler Emissions- Total NOx Emissions</td>\n",
       "      <td>Number per km2</td>\n",
       "      <td>number</td>\n",
       "      <td>Borough</td>\n",
       "      <td>2</td>\n",
       "      <td>Brooklyn</td>\n",
       "      <td>2013</td>\n",
       "      <td>01/01/2013</td>\n",
       "      <td>22.8</td>\n",
       "      <td>NaN</td>\n",
       "    </tr>\n",
       "    <tr>\n",
       "      <th>206</th>\n",
       "      <td>130538</td>\n",
       "      <td>642</td>\n",
       "      <td>Boiler Emissions- Total NOx Emissions</td>\n",
       "      <td>Number per km2</td>\n",
       "      <td>number</td>\n",
       "      <td>Borough</td>\n",
       "      <td>3</td>\n",
       "      <td>Manhattan</td>\n",
       "      <td>2013</td>\n",
       "      <td>01/01/2013</td>\n",
       "      <td>161.1</td>\n",
       "      <td>NaN</td>\n",
       "    </tr>\n",
       "    <tr>\n",
       "      <th>207</th>\n",
       "      <td>130539</td>\n",
       "      <td>642</td>\n",
       "      <td>Boiler Emissions- Total NOx Emissions</td>\n",
       "      <td>Number per km2</td>\n",
       "      <td>number</td>\n",
       "      <td>Borough</td>\n",
       "      <td>4</td>\n",
       "      <td>Queens</td>\n",
       "      <td>2013</td>\n",
       "      <td>01/01/2013</td>\n",
       "      <td>16.1</td>\n",
       "      <td>NaN</td>\n",
       "    </tr>\n",
       "    <tr>\n",
       "      <th>208</th>\n",
       "      <td>130540</td>\n",
       "      <td>642</td>\n",
       "      <td>Boiler Emissions- Total NOx Emissions</td>\n",
       "      <td>Number per km2</td>\n",
       "      <td>number</td>\n",
       "      <td>Borough</td>\n",
       "      <td>5</td>\n",
       "      <td>Staten Island</td>\n",
       "      <td>2013</td>\n",
       "      <td>01/01/2013</td>\n",
       "      <td>2.7</td>\n",
       "      <td>NaN</td>\n",
       "    </tr>\n",
       "  </tbody>\n",
       "</table>\n",
       "<p>144 rows × 12 columns</p>\n",
       "</div>"
      ],
      "text/plain": [
       "     Unique ID  Indicator ID                                   Name  \\\n",
       "65      130397           640  Boiler Emissions- Total SO2 Emissions   \n",
       "66      130398           640  Boiler Emissions- Total SO2 Emissions   \n",
       "67      130399           640  Boiler Emissions- Total SO2 Emissions   \n",
       "68      130400           640  Boiler Emissions- Total SO2 Emissions   \n",
       "69      130401           640  Boiler Emissions- Total SO2 Emissions   \n",
       "..         ...           ...                                    ...   \n",
       "204     130536           642  Boiler Emissions- Total NOx Emissions   \n",
       "205     130537           642  Boiler Emissions- Total NOx Emissions   \n",
       "206     130538           642  Boiler Emissions- Total NOx Emissions   \n",
       "207     130539           642  Boiler Emissions- Total NOx Emissions   \n",
       "208     130540           642  Boiler Emissions- Total NOx Emissions   \n",
       "\n",
       "            Measure Measure Info Geo Type Name  Geo Join ID  \\\n",
       "65   Number per km2       number         UHF42          101   \n",
       "66   Number per km2       number         UHF42          102   \n",
       "67   Number per km2       number         UHF42          103   \n",
       "68   Number per km2       number         UHF42          104   \n",
       "69   Number per km2       number         UHF42          105   \n",
       "..              ...          ...           ...          ...   \n",
       "204  Number per km2       number       Borough            1   \n",
       "205  Number per km2       number       Borough            2   \n",
       "206  Number per km2       number       Borough            3   \n",
       "207  Number per km2       number       Borough            4   \n",
       "208  Number per km2       number       Borough            5   \n",
       "\n",
       "              Geo Place Name Time Period  Start_Date  Data Value  Message  \n",
       "65   Kingsbridge - Riverdale        2013  01/01/2013        17.6      NaN  \n",
       "66           Northeast Bronx        2013  01/01/2013         2.2      NaN  \n",
       "67        Fordham - Bronx Pk        2013  01/01/2013        24.5      NaN  \n",
       "68      Pelham - Throgs Neck        2013  01/01/2013         4.4      NaN  \n",
       "69          Crotona -Tremont        2013  01/01/2013        16.9      NaN  \n",
       "..                       ...         ...         ...         ...      ...  \n",
       "204                    Bronx        2013  01/01/2013        42.7      NaN  \n",
       "205                 Brooklyn        2013  01/01/2013        22.8      NaN  \n",
       "206                Manhattan        2013  01/01/2013       161.1      NaN  \n",
       "207                   Queens        2013  01/01/2013        16.1      NaN  \n",
       "208            Staten Island        2013  01/01/2013         2.7      NaN  \n",
       "\n",
       "[144 rows x 12 columns]"
      ]
     },
     "execution_count": 5,
     "metadata": {},
     "output_type": "execute_result"
    }
   ],
   "source": [
    "df[df['Time Period'] == '2013']"
   ]
  },
  {
   "cell_type": "code",
   "execution_count": 6,
   "id": "fd01f559-37bd-40c7-883f-05ca9f17a5b0",
   "metadata": {},
   "outputs": [],
   "source": [
    "time_period_unique = list(df['Time Period'].unique())"
   ]
  },
  {
   "cell_type": "code",
   "execution_count": 7,
   "id": "08ae39c8-dd7f-4d04-8f4d-d837245336d2",
   "metadata": {},
   "outputs": [
    {
     "name": "stdout",
     "output_type": "stream",
     "text": [
      "['Summer 2013', 'Summer 2014', 'Winter 2008-09', 'Summer 2009', 'Summer 2010', 'Summer 2011', 'Summer 2012', 'Winter 2009-10', '2005-2007', '2013', '2005', '2009-2011', 'Winter 2010-11', 'Winter 2011-12', 'Winter 2012-13', 'Annual Average 2009', 'Annual Average 2010', 'Annual Average 2011', 'Annual Average 2012', 'Annual Average 2013', '2015', 'Winter 2013-14', 'Annual Average 2014', '2011', 'Winter 2014-15', '2016', 'Annual Average 2015', 'Summer 2015', 'Winter 2015-16', 'Summer 2016', 'Annual Average 2016', 'Summer 2017', '2012-2014', 'Summer 2018', 'Annual Average 2017', 'Summer 2019', 'Winter 2016-17', 'Annual Average 2018', 'Winter 2017-18', '2015-2017', 'Summer 2020', 'Annual Average 2019', 'Winter 2018-19', 'Annual Average 2020', 'Winter 2019-20']\n"
     ]
    }
   ],
   "source": [
    "print(time_period_unique)"
   ]
  },
  {
   "cell_type": "markdown",
   "id": "00d83975-6eea-45f1-a776-d0606b6edf46",
   "metadata": {},
   "source": [
    "#### Lets divide 'Time Period' column into 'season' and 'year'. Since we already have a 'Start_Date' column, new column 'year' will take, for Winter cases as well as multi-year cases, the ending year. "
   ]
  },
  {
   "cell_type": "markdown",
   "id": "fbfcf735-8d07-4b84-9475-f587901daa9c",
   "metadata": {},
   "source": [
    "To create the new columns 'season' and 'year' from the 'Time Period' column of the DataFrame df, we will use the str.extract() method from Pandas and regular expressions.\n",
    "\n",
    "For the 'season' column, we will use the regular expression (r'^(\\D+).*'), which extracts all non-numeric characters at the beginning of the string. \n",
    "\n",
    "For the 'year' column, we will use the regular expression (r'(\\d{4})(?:-(\\d{2}))?$'), which searches for a group of four digits followed optionally by a hyphen and two additional digits."
   ]
  },
  {
   "cell_type": "code",
   "execution_count": 8,
   "id": "e0bf7a32-4629-4535-94f1-fd4fb8a628b7",
   "metadata": {},
   "outputs": [
    {
     "data": {
      "text/html": [
       "<div>\n",
       "<style scoped>\n",
       "    .dataframe tbody tr th:only-of-type {\n",
       "        vertical-align: middle;\n",
       "    }\n",
       "\n",
       "    .dataframe tbody tr th {\n",
       "        vertical-align: top;\n",
       "    }\n",
       "\n",
       "    .dataframe thead th {\n",
       "        text-align: right;\n",
       "    }\n",
       "</style>\n",
       "<table border=\"1\" class=\"dataframe\">\n",
       "  <thead>\n",
       "    <tr style=\"text-align: right;\">\n",
       "      <th></th>\n",
       "      <th>time_period</th>\n",
       "      <th>season</th>\n",
       "      <th>year</th>\n",
       "      <th>year2</th>\n",
       "    </tr>\n",
       "  </thead>\n",
       "  <tbody>\n",
       "    <tr>\n",
       "      <th>0</th>\n",
       "      <td>Summer 2013</td>\n",
       "      <td>Summer</td>\n",
       "      <td>2013</td>\n",
       "      <td>NaN</td>\n",
       "    </tr>\n",
       "    <tr>\n",
       "      <th>1</th>\n",
       "      <td>Summer 2014</td>\n",
       "      <td>Summer</td>\n",
       "      <td>2014</td>\n",
       "      <td>NaN</td>\n",
       "    </tr>\n",
       "    <tr>\n",
       "      <th>2</th>\n",
       "      <td>Summer 2013</td>\n",
       "      <td>Summer</td>\n",
       "      <td>2013</td>\n",
       "      <td>NaN</td>\n",
       "    </tr>\n",
       "    <tr>\n",
       "      <th>3</th>\n",
       "      <td>Summer 2014</td>\n",
       "      <td>Summer</td>\n",
       "      <td>2014</td>\n",
       "      <td>NaN</td>\n",
       "    </tr>\n",
       "    <tr>\n",
       "      <th>4</th>\n",
       "      <td>Winter 2008-09</td>\n",
       "      <td>Winter</td>\n",
       "      <td>2008</td>\n",
       "      <td>09</td>\n",
       "    </tr>\n",
       "  </tbody>\n",
       "</table>\n",
       "</div>"
      ],
      "text/plain": [
       "      time_period   season  year year2\n",
       "0     Summer 2013  Summer   2013   NaN\n",
       "1     Summer 2014  Summer   2014   NaN\n",
       "2     Summer 2013  Summer   2013   NaN\n",
       "3     Summer 2014  Summer   2014   NaN\n",
       "4  Winter 2008-09  Winter   2008    09"
      ]
     },
     "execution_count": 8,
     "metadata": {},
     "output_type": "execute_result"
    }
   ],
   "source": [
    "# Extract text and numbers from 'Time Period'\n",
    "prueba = df['Time Period']\n",
    "# Extract 'season' and 'year' from 'prueba'\n",
    "seasons = prueba.str.extract(r'^(\\D+).*')\n",
    "years = prueba.str.extract(r'(\\d{4})(?:-(\\d{2}))?$')\n",
    "\n",
    "# Concatenate 'seasons', 'years', and 'prueba' into a new DataFrame\n",
    "new_df = pd.concat([prueba, seasons, years], axis=1)\n",
    "new_df.columns = ['time_period', 'season', 'year', 'year2']\n",
    "new_df.head(5)"
   ]
  },
  {
   "cell_type": "markdown",
   "id": "4f621e34-edf7-4f75-94af-d01d274a5abc",
   "metadata": {},
   "source": [
    "We'll create a new column 'year_final' using the apply() method to iterate over each row in the DataFrame, and for each row, a lambda function is applied to concatenate the values of \"year\" and \"year2\" columns.\n",
    "\n",
    "The if not pd.isna(x['year2']) condition checks if the value in the \"year2\" column is not a NaN value. If it is not NaN, then the concatenation takes place using the first two characters of the \"year\" column and the last two characters of the \"year2\" column. The result is then converted to a string using the str() function.\n",
    "\n",
    "If the value in the \"year2\" column is NaN, then the value in the \"year\" column is used as is."
   ]
  },
  {
   "cell_type": "code",
   "execution_count": 9,
   "id": "0ece5e95-13e2-4b06-b9db-4c044cb384c3",
   "metadata": {},
   "outputs": [],
   "source": [
    "# Create a new column with the concatenated values\n",
    "new_df['year_final'] = new_df.apply(lambda x: str(x['year'][:2]) + str(x['year2'])[-2:] if not pd.isna(x['year2']) else x['year'], axis=1)"
   ]
  },
  {
   "cell_type": "markdown",
   "id": "b2a30d99-f026-4f34-b4f7-534e4b721fca",
   "metadata": {},
   "source": [
    "Fill NaN values in 'season' column with 'Multi-year' label. \n",
    "Replace 'Annual Average' with 'Year' in 'season' column"
   ]
  },
  {
   "cell_type": "code",
   "execution_count": 10,
   "id": "215c8da0-f360-4621-a976-0f7fe1ee68e2",
   "metadata": {},
   "outputs": [],
   "source": [
    "new_df['season'] = new_df['season'].fillna('Multi-year')\n",
    "new_df['season'] = new_df['season'].str.replace('Annual Average', 'Year')"
   ]
  },
  {
   "cell_type": "code",
   "execution_count": 11,
   "id": "5dd48617-3d91-4b40-a5a6-8ab5b520529a",
   "metadata": {},
   "outputs": [],
   "source": [
    "new_df.drop(['time_period', 'year', 'year2'], axis=1, inplace=True)"
   ]
  },
  {
   "cell_type": "code",
   "execution_count": 12,
   "id": "e519baf6-b9db-4952-a789-98203e06d421",
   "metadata": {},
   "outputs": [
    {
     "data": {
      "text/html": [
       "<div>\n",
       "<style scoped>\n",
       "    .dataframe tbody tr th:only-of-type {\n",
       "        vertical-align: middle;\n",
       "    }\n",
       "\n",
       "    .dataframe tbody tr th {\n",
       "        vertical-align: top;\n",
       "    }\n",
       "\n",
       "    .dataframe thead th {\n",
       "        text-align: right;\n",
       "    }\n",
       "</style>\n",
       "<table border=\"1\" class=\"dataframe\">\n",
       "  <thead>\n",
       "    <tr style=\"text-align: right;\">\n",
       "      <th></th>\n",
       "      <th>season</th>\n",
       "      <th>year_final</th>\n",
       "    </tr>\n",
       "  </thead>\n",
       "  <tbody>\n",
       "    <tr>\n",
       "      <th>0</th>\n",
       "      <td>Summer</td>\n",
       "      <td>2013</td>\n",
       "    </tr>\n",
       "    <tr>\n",
       "      <th>1</th>\n",
       "      <td>Summer</td>\n",
       "      <td>2014</td>\n",
       "    </tr>\n",
       "    <tr>\n",
       "      <th>2</th>\n",
       "      <td>Summer</td>\n",
       "      <td>2013</td>\n",
       "    </tr>\n",
       "    <tr>\n",
       "      <th>3</th>\n",
       "      <td>Summer</td>\n",
       "      <td>2014</td>\n",
       "    </tr>\n",
       "    <tr>\n",
       "      <th>4</th>\n",
       "      <td>Winter</td>\n",
       "      <td>2009</td>\n",
       "    </tr>\n",
       "  </tbody>\n",
       "</table>\n",
       "</div>"
      ],
      "text/plain": [
       "    season year_final\n",
       "0  Summer        2013\n",
       "1  Summer        2014\n",
       "2  Summer        2013\n",
       "3  Summer        2014\n",
       "4  Winter        2009"
      ]
     },
     "execution_count": 12,
     "metadata": {},
     "output_type": "execute_result"
    }
   ],
   "source": [
    "new_df.head(5)"
   ]
  },
  {
   "cell_type": "code",
   "execution_count": 13,
   "id": "32e7af3b-c19b-468e-a612-81a61c186e5f",
   "metadata": {},
   "outputs": [
    {
     "name": "stdout",
     "output_type": "stream",
     "text": [
      "<class 'pandas.core.frame.DataFrame'>\n",
      "RangeIndex: 16122 entries, 0 to 16121\n",
      "Data columns (total 2 columns):\n",
      " #   Column      Non-Null Count  Dtype \n",
      "---  ------      --------------  ----- \n",
      " 0   season      16122 non-null  object\n",
      " 1   year_final  16122 non-null  object\n",
      "dtypes: object(2)\n",
      "memory usage: 252.0+ KB\n"
     ]
    }
   ],
   "source": [
    "new_df.info()"
   ]
  },
  {
   "cell_type": "code",
   "execution_count": 14,
   "id": "cf17cd6f-f2c6-4529-9759-7e76d2c7c2ea",
   "metadata": {},
   "outputs": [],
   "source": [
    "# get the column to be inserted\n",
    "col1 = new_df['season']\n",
    "col2 = new_df['year_final']\n",
    "\n",
    "# insert col1 into df at position 9\n",
    "df.insert(9, 'period_type', col1)"
   ]
  },
  {
   "cell_type": "code",
   "execution_count": 15,
   "id": "d0ce69ae-6519-49e0-9d48-06646d620576",
   "metadata": {},
   "outputs": [],
   "source": [
    "# insert col2 into df at position 11\n",
    "df.insert(11, 'end_year', col2)"
   ]
  },
  {
   "cell_type": "code",
   "execution_count": 16,
   "id": "ebde3376-2346-4d0b-9975-61019455da36",
   "metadata": {},
   "outputs": [
    {
     "name": "stdout",
     "output_type": "stream",
     "text": [
      "<class 'pandas.core.frame.DataFrame'>\n",
      "RangeIndex: 16122 entries, 0 to 16121\n",
      "Data columns (total 14 columns):\n",
      " #   Column          Non-Null Count  Dtype  \n",
      "---  ------          --------------  -----  \n",
      " 0   Unique ID       16122 non-null  int64  \n",
      " 1   Indicator ID    16122 non-null  int64  \n",
      " 2   Name            16122 non-null  object \n",
      " 3   Measure         16122 non-null  object \n",
      " 4   Measure Info    16122 non-null  object \n",
      " 5   Geo Type Name   16122 non-null  object \n",
      " 6   Geo Join ID     16122 non-null  int64  \n",
      " 7   Geo Place Name  16122 non-null  object \n",
      " 8   Time Period     16122 non-null  object \n",
      " 9   period_type     16122 non-null  object \n",
      " 10  Start_Date      16122 non-null  object \n",
      " 11  end_year        16122 non-null  object \n",
      " 12  Data Value      16122 non-null  float64\n",
      " 13  Message         0 non-null      float64\n",
      "dtypes: float64(2), int64(3), object(9)\n",
      "memory usage: 1.7+ MB\n"
     ]
    }
   ],
   "source": [
    "df.info()"
   ]
  },
  {
   "cell_type": "markdown",
   "id": "0077cbdb-ed28-4ad3-ae9e-ca939c0dac86",
   "metadata": {},
   "source": [
    "Create new column 'start_year' and insert it after 'Start_Date'"
   ]
  },
  {
   "cell_type": "code",
   "execution_count": 17,
   "id": "1f9f24b1-7e92-40e4-8c0f-a2069e9481ff",
   "metadata": {},
   "outputs": [],
   "source": [
    "# extract the year component from the 'Start_Date' column\n",
    "df['start_year'] = df['Start_Date'].str.split('/').str[-1]\n",
    "\n",
    "# move the 'start_year' column to position 11\n",
    "cols = list(df.columns)\n",
    "cols.insert(11, cols.pop(cols.index('start_year')))\n",
    "df = df[cols]"
   ]
  },
  {
   "cell_type": "code",
   "execution_count": 18,
   "id": "8a1ef36d-9e3a-4e3d-909a-c3917c3e006c",
   "metadata": {},
   "outputs": [
    {
     "name": "stdout",
     "output_type": "stream",
     "text": [
      "<class 'pandas.core.frame.DataFrame'>\n",
      "RangeIndex: 16122 entries, 0 to 16121\n",
      "Data columns (total 15 columns):\n",
      " #   Column          Non-Null Count  Dtype  \n",
      "---  ------          --------------  -----  \n",
      " 0   Unique ID       16122 non-null  int64  \n",
      " 1   Indicator ID    16122 non-null  int64  \n",
      " 2   Name            16122 non-null  object \n",
      " 3   Measure         16122 non-null  object \n",
      " 4   Measure Info    16122 non-null  object \n",
      " 5   Geo Type Name   16122 non-null  object \n",
      " 6   Geo Join ID     16122 non-null  int64  \n",
      " 7   Geo Place Name  16122 non-null  object \n",
      " 8   Time Period     16122 non-null  object \n",
      " 9   period_type     16122 non-null  object \n",
      " 10  Start_Date      16122 non-null  object \n",
      " 11  start_year      16122 non-null  object \n",
      " 12  end_year        16122 non-null  object \n",
      " 13  Data Value      16122 non-null  float64\n",
      " 14  Message         0 non-null      float64\n",
      "dtypes: float64(2), int64(3), object(10)\n",
      "memory usage: 1.8+ MB\n"
     ]
    }
   ],
   "source": [
    "df.info()"
   ]
  },
  {
   "cell_type": "code",
   "execution_count": 30,
   "id": "5bd017ec-8f24-46fd-92a3-c966233d3c2d",
   "metadata": {},
   "outputs": [
    {
     "data": {
      "text/plain": [
       "'2020'"
      ]
     },
     "execution_count": 30,
     "metadata": {},
     "output_type": "execute_result"
    }
   ],
   "source": [
    "df['end_year'].max()"
   ]
  },
  {
   "cell_type": "code",
   "execution_count": 31,
   "id": "4e1ca60b-bef8-44c0-ab4a-43217135b2e2",
   "metadata": {},
   "outputs": [],
   "source": [
    "df.to_parquet('calidad_aire.parquet', index=False)"
   ]
  },
  {
   "cell_type": "code",
   "execution_count": 32,
   "id": "416ffbaf-5473-470a-8d37-4c23c70e4fc8",
   "metadata": {},
   "outputs": [],
   "source": [
    "import pandas as pd\n",
    "df = pd.read_parquet('calidad_aire.parquet')"
   ]
  },
  {
   "cell_type": "code",
   "execution_count": 33,
   "id": "4bab099a-50f3-435a-a7e4-60ab3a5e13a1",
   "metadata": {},
   "outputs": [
    {
     "data": {
      "text/html": [
       "<div>\n",
       "<style scoped>\n",
       "    .dataframe tbody tr th:only-of-type {\n",
       "        vertical-align: middle;\n",
       "    }\n",
       "\n",
       "    .dataframe tbody tr th {\n",
       "        vertical-align: top;\n",
       "    }\n",
       "\n",
       "    .dataframe thead th {\n",
       "        text-align: right;\n",
       "    }\n",
       "</style>\n",
       "<table border=\"1\" class=\"dataframe\">\n",
       "  <thead>\n",
       "    <tr style=\"text-align: right;\">\n",
       "      <th></th>\n",
       "      <th>Unique ID</th>\n",
       "      <th>Indicator ID</th>\n",
       "      <th>Name</th>\n",
       "    </tr>\n",
       "  </thead>\n",
       "  <tbody>\n",
       "    <tr>\n",
       "      <th>0</th>\n",
       "      <td>216498</td>\n",
       "      <td>386</td>\n",
       "      <td>Ozone (O3)</td>\n",
       "    </tr>\n",
       "    <tr>\n",
       "      <th>1</th>\n",
       "      <td>216499</td>\n",
       "      <td>386</td>\n",
       "      <td>Ozone (O3)</td>\n",
       "    </tr>\n",
       "    <tr>\n",
       "      <th>2</th>\n",
       "      <td>219969</td>\n",
       "      <td>386</td>\n",
       "      <td>Ozone (O3)</td>\n",
       "    </tr>\n",
       "    <tr>\n",
       "      <th>3</th>\n",
       "      <td>219970</td>\n",
       "      <td>386</td>\n",
       "      <td>Ozone (O3)</td>\n",
       "    </tr>\n",
       "    <tr>\n",
       "      <th>4</th>\n",
       "      <td>164876</td>\n",
       "      <td>383</td>\n",
       "      <td>Sulfur Dioxide (SO2)</td>\n",
       "    </tr>\n",
       "    <tr>\n",
       "      <th>...</th>\n",
       "      <td>...</td>\n",
       "      <td>...</td>\n",
       "      <td>...</td>\n",
       "    </tr>\n",
       "    <tr>\n",
       "      <th>16117</th>\n",
       "      <td>671118</td>\n",
       "      <td>386</td>\n",
       "      <td>Ozone (O3)</td>\n",
       "    </tr>\n",
       "    <tr>\n",
       "      <th>16118</th>\n",
       "      <td>671119</td>\n",
       "      <td>386</td>\n",
       "      <td>Ozone (O3)</td>\n",
       "    </tr>\n",
       "    <tr>\n",
       "      <th>16119</th>\n",
       "      <td>671120</td>\n",
       "      <td>386</td>\n",
       "      <td>Ozone (O3)</td>\n",
       "    </tr>\n",
       "    <tr>\n",
       "      <th>16120</th>\n",
       "      <td>671121</td>\n",
       "      <td>386</td>\n",
       "      <td>Ozone (O3)</td>\n",
       "    </tr>\n",
       "    <tr>\n",
       "      <th>16121</th>\n",
       "      <td>671122</td>\n",
       "      <td>386</td>\n",
       "      <td>Ozone (O3)</td>\n",
       "    </tr>\n",
       "  </tbody>\n",
       "</table>\n",
       "<p>16122 rows × 3 columns</p>\n",
       "</div>"
      ],
      "text/plain": [
       "       Unique ID  Indicator ID                  Name\n",
       "0         216498           386            Ozone (O3)\n",
       "1         216499           386            Ozone (O3)\n",
       "2         219969           386            Ozone (O3)\n",
       "3         219970           386            Ozone (O3)\n",
       "4         164876           383  Sulfur Dioxide (SO2)\n",
       "...          ...           ...                   ...\n",
       "16117     671118           386            Ozone (O3)\n",
       "16118     671119           386            Ozone (O3)\n",
       "16119     671120           386            Ozone (O3)\n",
       "16120     671121           386            Ozone (O3)\n",
       "16121     671122           386            Ozone (O3)\n",
       "\n",
       "[16122 rows x 3 columns]"
      ]
     },
     "execution_count": 33,
     "metadata": {},
     "output_type": "execute_result"
    }
   ],
   "source": [
    "df[['Unique ID', 'Indicator ID', 'Name']]"
   ]
  },
  {
   "cell_type": "code",
   "execution_count": 59,
   "id": "9824eaa1-9027-456f-8c4d-8a9989708da6",
   "metadata": {},
   "outputs": [],
   "source": [
    "indicator_name = list(df['Name'].unique())\n",
    "indicator_ID = list(df['Indicator ID'].unique())"
   ]
  },
  {
   "cell_type": "code",
   "execution_count": 69,
   "id": "4c7828d1-b7f5-4f4d-9123-55896ac81ba3",
   "metadata": {},
   "outputs": [],
   "source": [
    "# Crear un diccionario vacío para almacenar los resultados\n",
    "dict_indicator_id = {}\n",
    "\n",
    "# Iterar sobre los valores únicos de Indicator ID\n",
    "for id in indicator_ID:\n",
    "    \n",
    "    # Filtrar el DataFrame por Indicator ID\n",
    "    filtered_df = df[df['Indicator ID'] == id]\n",
    "    \n",
    "    # Almacenar el DataFrame filtrado en el diccionario con Indicator ID como llave\n",
    "    dict_indicator_id[id] = filtered_df"
   ]
  },
  {
   "cell_type": "code",
   "execution_count": 75,
   "id": "6e47b61c-7609-4e95-a183-a0b89ff34540",
   "metadata": {},
   "outputs": [],
   "source": [
    "# Crear un diccionario vacío para almacenar los resultados\n",
    "dict_indicator_info = {}\n",
    "\n",
    "# Iterar sobre los valores únicos de Indicator ID\n",
    "for id in indicator_ID:\n",
    "    \n",
    "    # Filtrar el DataFrame por Indicator ID\n",
    "    filtered_df = df[df['Indicator ID'] == id]\n",
    "    \n",
    "    # Extraer el nombre correspondiente a Indicator ID\n",
    "    name = filtered_df['Name'].unique()[0]\n",
    "    \n",
    "    # Extraer los años únicos correspondientes a Indicator ID\n",
    "    years = list(filtered_df['end_year'].unique())\n",
    "    \n",
    "    # Crear una tupla con el nombre, ID y años únicos correspondientes\n",
    "    indicator_info = (name, years)\n",
    "    \n",
    "    # Almacenar la tupla en el diccionario con Indicator ID como llave\n",
    "    dict_indicator_info[id] = indicator_info\n"
   ]
  },
  {
   "cell_type": "code",
   "execution_count": 78,
   "id": "0690a36b-a6f9-49fd-b5ac-e51f06f4a2f5",
   "metadata": {},
   "outputs": [
    {
     "name": "stdout",
     "output_type": "stream",
     "text": [
      "Indicator ID: 386\n",
      "Name: Ozone (O3)\n",
      "años: ['2013', '2014', '2009', '2010', '2011', '2012', '2015', '2017', '2016', '2018', '2019', '2020']\n",
      "Indicator ID: 383\n",
      "Name: Sulfur Dioxide (SO2)\n",
      "años: ['2009', '2010', '2011', '2012', '2013', '2014', '2015', '2016']\n",
      "Indicator ID: 639\n",
      "Name: PM2.5-Attributable Deaths\n",
      "años: ['2007', '2011', '2014', '2017']\n",
      "Indicator ID: 640\n",
      "Name: Boiler Emissions- Total SO2 Emissions\n",
      "años: ['2013', '2015']\n",
      "Indicator ID: 641\n",
      "Name: Boiler Emissions- Total PM2.5 Emissions\n",
      "años: ['2013', '2015']\n",
      "Indicator ID: 642\n",
      "Name: Boiler Emissions- Total NOx Emissions\n",
      "años: ['2013', '2015']\n",
      "Indicator ID: 646\n",
      "Name: Air Toxics Concentrations- Average Benzene Concentrations\n",
      "años: ['2005', '2011']\n",
      "Indicator ID: 647\n",
      "Name: Air Toxics Concentrations- Average Formaldehyde Concentrations\n",
      "años: ['2005', '2011']\n",
      "Indicator ID: 648\n",
      "Name: PM2.5-Attributable Asthma Emergency Department Visits\n",
      "años: ['2007', '2011', '2014', '2017']\n",
      "Indicator ID: 650\n",
      "Name: PM2.5-Attributable Respiratory Hospitalizations (Adults 20 Yrs and Older)\n",
      "años: ['2007', '2011', '2014', '2017']\n",
      "Indicator ID: 651\n",
      "Name: PM2.5-Attributable Cardiovascular Hospitalizations (Adults 40 Yrs and Older)\n",
      "años: ['2007', '2011', '2014', '2017']\n",
      "Indicator ID: 643\n",
      "Name: Traffic Density- Annual Vehicle Miles Traveled\n",
      "años: ['2005', '2016']\n",
      "Indicator ID: 652\n",
      "Name: O3-Attributable Cardiac and Respiratory Deaths\n",
      "años: ['2007', '2011', '2014', '2017']\n",
      "Indicator ID: 653\n",
      "Name: O3-Attributable Asthma Emergency Department Visits\n",
      "años: ['2007', '2011', '2014', '2017']\n",
      "Indicator ID: 655\n",
      "Name: O3-Attributable Asthma Hospitalizations\n",
      "años: ['2007', '2011', '2014', '2017']\n",
      "Indicator ID: 657\n",
      "Name: PM2.5-Attributable Asthma Emergency Department Visits\n",
      "años: ['2007', '2011', '2014', '2017']\n",
      "Indicator ID: 659\n",
      "Name: O3-Attributable Asthma Emergency Department Visits\n",
      "años: ['2007', '2011', '2014', '2017']\n",
      "Indicator ID: 661\n",
      "Name: O3-Attributable Asthma Hospitalizations\n",
      "años: ['2007', '2011', '2014', '2017']\n",
      "Indicator ID: 644\n",
      "Name: Traffic Density- Annual Vehicle Miles Traveled for Cars\n",
      "años: ['2005', '2016']\n",
      "Indicator ID: 645\n",
      "Name: Traffic Density- Annual Vehicle Miles Traveled for Trucks\n",
      "años: ['2005', '2016']\n",
      "Indicator ID: 375\n",
      "Name: Nitrogen Dioxide (NO2)\n",
      "años: ['2009', '2010', '2011', '2012', '2013', '2014', '2015', '2016', '2017', '2018', '2019', '2020']\n",
      "Indicator ID: 365\n",
      "Name: Fine Particulate Matter (PM2.5)\n",
      "años: ['2009', '2010', '2011', '2012', '2013', '2014', '2015', '2016', '2017', '2018', '2019', '2020']\n"
     ]
    }
   ],
   "source": [
    "for key in dict_indicator_info.keys():\n",
    "    print('Indicator ID:', key)\n",
    "    print('Name:', dict_indicator_info[key][0])\n",
    "    print('años:', dict_indicator_info[key][1])"
   ]
  },
  {
   "cell_type": "code",
   "execution_count": 100,
   "id": "10c55678-059f-4dcb-8337-f642153d6ca8",
   "metadata": {},
   "outputs": [],
   "source": [
    "x = df[(df['Indicator ID'] == 375) & (df['end_year'] == '2020')]"
   ]
  },
  {
   "cell_type": "code",
   "execution_count": 102,
   "id": "75cb9368-da43-40d4-a8fb-e76c6256f0f3",
   "metadata": {},
   "outputs": [
    {
     "data": {
      "text/plain": [
       "array(['Borough', 'UHF42', 'UHF34', 'Citywide', 'CD'], dtype=object)"
      ]
     },
     "execution_count": 102,
     "metadata": {},
     "output_type": "execute_result"
    }
   ],
   "source": [
    "x['Geo Type Name'].unique()"
   ]
  },
  {
   "cell_type": "code",
   "execution_count": 87,
   "id": "68801ca5-bc5c-4af8-a564-aa3f0e6efb89",
   "metadata": {},
   "outputs": [
    {
     "name": "stdout",
     "output_type": "stream",
     "text": [
      "['Greenpoint and Williamsburg (CD1)', 'Williamsbridge and Baychester (CD12)', 'Morris Park and Bronxdale (CD11)', 'Throgs Neck and Co-op City (CD10)', 'Parkchester and Soundview (CD9)', 'Riverdale and Fieldston (CD8)', 'Kingsbridge Heights and Bedford (CD7)', 'Belmont and East Tremont (CD6)', 'Fordham and University Heights (CD5)', 'Highbridge and Concourse (CD4)', 'Morrisania and Crotona (CD3)', 'Hunts Point and Longwood (CD2)', 'Mott Haven and Melrose (CD1)', 'Washington Heights and Inwood (CD12)', 'East Harlem (CD11)', 'Central Harlem (CD10)', 'Morningside Heights and Hamilton Heights (CD9)', 'Upper East Side (CD8)', 'Upper West Side (CD7)', 'Stuyvesant Town and Turtle Bay (CD6)', 'Midtown (CD5)', 'Clinton and Chelsea (CD4)', 'Lower East Side and Chinatown (CD3)', 'Greenwich Village and Soho (CD2)', 'Financial District (CD1)', 'Tottenville and Great Kills (CD3)', 'South Beach and Willowbrook (CD2)', 'St. George and Stapleton (CD1)', 'Rockaway and Broad Channel (CD14)', 'Queens Village (CD13)', 'Jamaica and Hollis (CD12)', 'Bayside and Little Neck (CD11)', 'South Ozone Park and Howard Beach (CD10)', 'Kew Gardens and Woodhaven (CD9)', 'Hillcrest and Fresh Meadows (CD8)', 'Flushing and Whitestone (CD7)', 'Rego Park and Forest Hills (CD6)', 'Ridgewood and Maspeth (CD5)', 'Elmhurst and Corona (CD4)', 'Jackson Heights (CD3)', 'Woodside and Sunnyside (CD2)', 'Long Island City and Astoria (CD1)', 'Flatlands and Canarsie (CD18)', 'East Flatbush (CD17)', 'Brownsville (CD16)', 'Sheepshead Bay (CD15)', 'Flatbush and Midwood (CD14)', 'Coney Island (CD13)', 'Borough Park (CD12)', 'Bensonhurst (CD11)', 'Bay Ridge and Dyker Heights (CD10)', 'South Crown Heights and Lefferts Gardens (CD9)', 'Crown Heights and Prospect Heights (CD8)', 'Sunset Park (CD7)', 'Park Slope and Carroll Gardens (CD6)', 'East New York and Starrett City (CD5)', 'Bushwick (CD4)', 'Bedford Stuyvesant (CD3)', 'Fort Greene and Brooklyn Heights (CD2)']\n"
     ]
    }
   ],
   "source": [
    "districts = []\n",
    "other = []\n",
    "y = list(x['Geo Place Name'].unique())\n",
    "for string in y: \n",
    "    if 'CD' in string: \n",
    "        districts.append(string)\n",
    "    else: \n",
    "        other.append(string)\n",
    "print(districts)"
   ]
  },
  {
   "cell_type": "code",
   "execution_count": 88,
   "id": "1fe1d87c-ff93-4563-9ab8-135fabe33d3a",
   "metadata": {},
   "outputs": [
    {
     "name": "stdout",
     "output_type": "stream",
     "text": [
      "['Northeast Bronx', 'Kingsbridge - Riverdale', 'New York City', 'South Bronx', 'Southern SI', 'Northern SI', 'Bayside Little Neck-Fresh Meadows', 'Union Square-Lower Manhattan', 'Chelsea-Village', 'Upper East Side-Gramercy', 'Rockaways', 'Southeast Queens', 'Jamaica', 'Southwest Queens', 'Ridgewood - Forest Hills', 'Flushing - Clearview', 'West Queens', 'Long Island City - Astoria', 'Upper West Side', 'East Harlem', 'Central Harlem - Morningside Heights', 'Washington Heights', 'Williamsburg - Bushwick', 'Coney Island - Sheepshead Bay', 'Bensonhurst - Bay Ridge', 'Canarsie - Flatlands', 'East Flatbush - Flatbush', 'Borough Park', 'Sunset Park', 'East New York', 'Bedford Stuyvesant - Crown Heights', 'Downtown - Heights - Slope', 'Greenpoint', 'Pelham - Throgs Neck', 'Fordham - Bronx Pk', 'South Beach - Tottenville', 'Willowbrook', 'Stapleton - St. George', 'Port Richmond', 'Fresh Meadows', 'Bayside - Little Neck', 'Lower Manhattan', 'Union Square - Lower East Side', 'Greenwich Village - SoHo', 'Gramercy Park - Murray Hill', 'Chelsea - Clinton', 'Upper East Side', 'Hunts Point - Mott Haven', 'High Bridge - Morrisania', 'Crotona -Tremont', 'Staten Island', 'Queens', 'Manhattan', 'Brooklyn', 'Bronx']\n"
     ]
    }
   ],
   "source": [
    "print(other)"
   ]
  },
  {
   "cell_type": "code",
   "execution_count": 98,
   "id": "b408aa6f-9282-46f2-8fb8-f754ab848b80",
   "metadata": {},
   "outputs": [],
   "source": [
    "places_dict = {}\n",
    "\n",
    "for geo_type in df['Geo Type Name'].unique():\n",
    "    filtered_df = df[df['Geo Type Name'] == geo_type]\n",
    "    places = list(filtered_df[~filtered_df['Geo Place Name'].str.contains('CD')]['Geo Place Name'].unique())\n",
    "    places_dict[geo_type] = places\n"
   ]
  },
  {
   "cell_type": "code",
   "execution_count": 99,
   "id": "2fd6b769-e609-47ce-8659-212c16a0df2d",
   "metadata": {},
   "outputs": [
    {
     "name": "stdout",
     "output_type": "stream",
     "text": [
      "{'CD': [], 'Borough': ['Bronx', 'Brooklyn', 'Manhattan', 'Queens', 'Staten Island'], 'UHF42': ['Kingsbridge - Riverdale', 'Northeast Bronx', 'Fordham - Bronx Pk', 'Pelham - Throgs Neck', 'Crotona -Tremont', 'High Bridge - Morrisania', 'Hunts Point - Mott Haven', 'Greenpoint', 'Downtown - Heights - Slope', 'Bedford Stuyvesant - Crown Heights', 'East New York', 'Sunset Park', 'Borough Park', 'East Flatbush - Flatbush', 'Canarsie - Flatlands', 'Bensonhurst - Bay Ridge', 'Coney Island - Sheepshead Bay', 'Williamsburg - Bushwick', 'Washington Heights', 'Central Harlem - Morningside Heights', 'East Harlem', 'Upper West Side', 'Upper East Side', 'Chelsea - Clinton', 'Gramercy Park - Murray Hill', 'Greenwich Village - SoHo', 'Union Square - Lower East Side', 'Lower Manhattan', 'Long Island City - Astoria', 'West Queens', 'Flushing - Clearview', 'Bayside - Little Neck', 'Ridgewood - Forest Hills', 'Fresh Meadows', 'Southwest Queens', 'Jamaica', 'Southeast Queens', 'Rockaways', 'Port Richmond', 'Stapleton - St. George', 'Willowbrook', 'South Beach - Tottenville'], 'Citywide': ['New York City'], 'UHF34': ['Kingsbridge - Riverdale', 'Northeast Bronx', 'Fordham - Bronx Pk', 'Pelham - Throgs Neck', 'Greenpoint', 'Downtown - Heights - Slope', 'Bedford Stuyvesant - Crown Heights', 'East New York', 'Sunset Park', 'Borough Park', 'East Flatbush - Flatbush', 'Canarsie - Flatlands', 'Bensonhurst - Bay Ridge', 'Coney Island - Sheepshead Bay', 'Williamsburg - Bushwick', 'Washington Heights', 'Central Harlem - Morningside Heights', 'East Harlem', 'Upper West Side', 'Long Island City - Astoria', 'West Queens', 'Flushing - Clearview', 'Ridgewood - Forest Hills', 'Southwest Queens', 'Jamaica', 'Southeast Queens', 'Rockaways', 'Upper East Side-Gramercy', 'Chelsea-Village', 'Union Square-Lower Manhattan', 'Bayside Little Neck-Fresh Meadows', 'Northern SI', 'Southern SI', 'South Bronx']}\n"
     ]
    }
   ],
   "source": [
    "print(places_dict)"
   ]
  },
  {
   "cell_type": "markdown",
   "id": "e58fe9ab-f036-472e-946d-6d4b807535d4",
   "metadata": {},
   "source": [
    "### El estudio no cuenta con información actualizada ni desagregada por mes, ni día, mucho menos por hora."
   ]
  },
  {
   "cell_type": "markdown",
   "id": "f765d560-804f-4c0d-afb6-a5e5c0947c61",
   "metadata": {},
   "source": [
    "#### Se ha decidido buscar otras fuentes de información "
   ]
  }
 ],
 "metadata": {
  "kernelspec": {
   "display_name": "Python 3 (ipykernel)",
   "language": "python",
   "name": "python3"
  },
  "language_info": {
   "codemirror_mode": {
    "name": "ipython",
    "version": 3
   },
   "file_extension": ".py",
   "mimetype": "text/x-python",
   "name": "python",
   "nbconvert_exporter": "python",
   "pygments_lexer": "ipython3",
   "version": "3.9.16"
  }
 },
 "nbformat": 4,
 "nbformat_minor": 5
}
